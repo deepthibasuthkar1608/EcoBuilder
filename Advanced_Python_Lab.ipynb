{
  "cells": [
    {
      "cell_type": "markdown",
      "metadata": {
        "id": "view-in-github",
        "colab_type": "text"
      },
      "source": [
        "<a href=\"https://colab.research.google.com/github/deepthibasuthkar1608/EcoBuilder/blob/main/Advanced_Python_Lab.ipynb\" target=\"_parent\"><img src=\"https://colab.research.google.com/assets/colab-badge.svg\" alt=\"Open In Colab\"/></a>"
      ]
    },
    {
      "cell_type": "code",
      "execution_count": 1,
      "metadata": {
        "colab": {
          "base_uri": "https://localhost:8080/"
        },
        "id": "jYQFDA3geXdU",
        "outputId": "7568d513-0f72-4e53-f1dc-0ec1608f1628"
      },
      "outputs": [
        {
          "output_type": "stream",
          "name": "stdout",
          "text": [
            "Null vector of size 10: [0. 0. 0. 0. 0. 0. 0. 0. 0. 0.]\n",
            "Vector with values ranging from 10 to 49: [10 11 12 13 14 15 16 17 18 19 20 21 22 23 24 25 26 27 28 29 30 31 32 33\n",
            " 34 35 36 37 38 39 40 41 42 43 44 45 46 47 48 49]\n",
            "Reversed vector: [49 48 47 46 45 44 43 42 41 40 39 38 37 36 35 34 33 32 31 30 29 28 27 26\n",
            " 25 24 23 22 21 20 19 18 17 16 15 14 13 12 11 10]\n",
            "Indices of non-zero elements: [0 1 4]\n"
          ]
        }
      ],
      "source": [
        "#LAB 1\n",
        "import numpy as np\n",
        "\n",
        "# a. Create a null vector of size 10\n",
        "null_vector = np.zeros(10)\n",
        "print(\"Null vector of size 10:\", null_vector)\n",
        "\n",
        "# b. Create a vector with values ranging from 10 to 49\n",
        "range_vector = np.arange(10, 50)\n",
        "print(\"Vector with values ranging from 10 to 49:\", range_vector)\n",
        "\n",
        "# c. Reverse a vector\n",
        "reversed_vector = range_vector[::-1]\n",
        "print(\"Reversed vector:\", reversed_vector)\n",
        "\n",
        "# d. Find indices of non-zero elements from [1, 2, 0, 0, 4, 0]\n",
        "input_array = np.array([1, 2, 0, 0, 4, 0])\n",
        "non_zero_indices = np.nonzero(input_array)[0]\n",
        "print(\"Indices of non-zero elements:\", non_zero_indices)\n"
      ]
    },
    {
      "cell_type": "code",
      "execution_count": 2,
      "metadata": {
        "colab": {
          "base_uri": "https://localhost:8080/"
        },
        "id": "pAtvDCVMe_fr",
        "outputId": "536c08e0-ce7b-4db6-fa5e-d7c67aa8af8a"
      },
      "outputs": [
        {
          "output_type": "stream",
          "name": "stdout",
          "text": [
            "3x3 Matrix with values ranging from 0 to 8:\n",
            " [[0 1 2]\n",
            " [3 4 5]\n",
            " [6 7 8]]\n",
            "3x3 Identity Matrix:\n",
            " [[1. 0. 0.]\n",
            " [0. 1. 0.]\n",
            " [0. 0. 1.]]\n",
            "3x3x3 Array with random values:\n",
            " [[[0.18440423 0.68957531 0.90973285]\n",
            "  [0.1955734  0.96923819 0.84018818]\n",
            "  [0.15959053 0.50937958 0.01239828]]\n",
            "\n",
            " [[0.47345096 0.08827123 0.55835021]\n",
            "  [0.9579373  0.96951581 0.05184257]\n",
            "  [0.66134416 0.10289983 0.03528123]]\n",
            "\n",
            " [[0.76548063 0.53648266 0.03240029]\n",
            "  [0.75814616 0.34795828 0.65687368]\n",
            "  [0.3819041  0.66649461 0.7182655 ]]]\n",
            "10x10 Array with random values:\n",
            " [[0.17351116 0.34834907 0.37823628 0.79851871 0.13610641 0.56762307\n",
            "  0.74437187 0.83402662 0.66714228 0.52571588]\n",
            " [0.11583842 0.47526861 0.25616329 0.86451298 0.68920277 0.75384879\n",
            "  0.10833305 0.75774751 0.99127402 0.02115866]\n",
            " [0.78961249 0.78353001 0.08820612 0.27805618 0.10396149 0.36533298\n",
            "  0.41957026 0.76994253 0.10564145 0.29208344]\n",
            " [0.3494064  0.41783596 0.68992763 0.29443614 0.8526672  0.54448473\n",
            "  0.0360881  0.15581236 0.07372247 0.1081275 ]\n",
            " [0.5856589  0.08843206 0.38713333 0.85569672 0.04554387 0.26431359\n",
            "  0.05460997 0.15109614 0.1438539  0.93878216]\n",
            " [0.78100066 0.7094983  0.19664847 0.41818599 0.22378201 0.17559311\n",
            "  0.03912521 0.29300762 0.00666333 0.83015091]\n",
            " [0.6087062  0.24008001 0.3350437  0.31378792 0.74874499 0.33007357\n",
            "  0.44984603 0.34896459 0.01122112 0.99206559]\n",
            " [0.48987985 0.21528628 0.02994972 0.32872476 0.824869   0.41981869\n",
            "  0.29545554 0.06521177 0.4256014  0.61765776]\n",
            " [0.78426457 0.35412933 0.75401253 0.73051825 0.76405093 0.69888565\n",
            "  0.92012496 0.65843922 0.30344175 0.88519716]\n",
            " [0.04884095 0.44987383 0.77654213 0.35937759 0.43481108 0.64315385\n",
            "  0.09080397 0.76687235 0.6821302  0.6322345 ]]\n",
            "Minimum value: 0.0066633260014888895\n",
            "Maximum value: 0.9920655911932258\n",
            "5x5 Random Matrix:\n",
            " [[0.66467044 0.93898872 0.15496135 0.27628681 0.72656078]\n",
            " [0.17724467 0.67507131 0.64652193 0.81295328 0.50888565]\n",
            " [0.71516193 0.34655457 0.94048083 0.04610543 0.83108149]\n",
            " [0.42243506 0.52190088 0.8213765  0.23533099 0.68215819]\n",
            " [0.03960782 0.64774336 0.46736968 0.22189766 0.65810112]]\n",
            "Normalized 5x5 Matrix:\n",
            " [[0.69384099 0.9983437  0.12804638 0.26272181 0.76254139]\n",
            " [0.15278164 0.70538631 0.67369552 0.85844003 0.52091452]\n",
            " [0.74988828 0.34072145 1.         0.00721257 0.87856297]\n",
            " [0.4249514  0.53536186 0.86779009 0.21725945 0.71325299]\n",
            " [0.         0.67505135 0.47483036 0.20234798 0.68654882]]\n"
          ]
        }
      ],
      "source": [
        "#LAB 2\n",
        "import numpy as np\n",
        "\n",
        "# a. Create a 3 x 3 matrix with values ranging from 0 to 8\n",
        "matrix_3x3 = np.arange(9).reshape(3, 3)\n",
        "print(\"3x3 Matrix with values ranging from 0 to 8:\\n\", matrix_3x3)\n",
        "\n",
        "# b. Create a 3 x 3 identity matrix\n",
        "identity_matrix = np.eye(3)\n",
        "print(\"3x3 Identity Matrix:\\n\", identity_matrix)\n",
        "\n",
        "# c. Create a 3 x 3 x 3 array with random values\n",
        "random_3x3x3 = np.random.random((3, 3, 3))\n",
        "print(\"3x3x3 Array with random values:\\n\", random_3x3x3)\n",
        "\n",
        "# d. Create a 10 x 10 array with random values and find the minimum and maximum values\n",
        "random_10x10 = np.random.random((10, 10))\n",
        "min_value = random_10x10.min()\n",
        "max_value = random_10x10.max()\n",
        "print(\"10x10 Array with random values:\\n\", random_10x10)\n",
        "print(\"Minimum value:\", min_value)\n",
        "print(\"Maximum value:\", max_value)\n",
        "\n",
        "# e. Normalize a 5 x 5 random matrix\n",
        "random_5x5 = np.random.random((5, 5))\n",
        "normalized_5x5 = (random_5x5 - random_5x5.min()) / (random_5x5.max() - random_5x5.min())\n",
        "print(\"5x5 Random Matrix:\\n\", random_5x5)\n",
        "print(\"Normalized 5x5 Matrix:\\n\", normalized_5x5)\n"
      ]
    },
    {
      "cell_type": "code",
      "execution_count": 3,
      "metadata": {
        "colab": {
          "base_uri": "https://localhost:8080/"
        },
        "id": "CE07-HyffZko",
        "outputId": "0143f2fb-1ae2-4630-ddb5-724944a5c86c"
      },
      "outputs": [
        {
          "output_type": "stream",
          "name": "stdout",
          "text": [
            "Random vector of size 10: [0.2486661  0.06922639 0.82385086 0.98037354 0.80603559 0.37982974\n",
            " 0.00728499 0.11920148 0.30382454 0.81288146]\n",
            "Sorted vector: [0.00728499 0.06922639 0.11920148 0.2486661  0.30382454 0.37982974\n",
            " 0.80603559 0.81288146 0.82385086 0.98037354]\n",
            "Array A: [6 3 4 8 5 5 0 4 9 4]\n",
            "Array B: [7 1 7 1 6 3 0 6 1 8]\n",
            "Are A and B equal? False\n",
            "Immutable array: [0.2162176  0.99848426 0.14738257 0.84404243 0.48986124 0.59937783\n",
            " 0.29549011 0.32175755 0.36969841 0.39769294]\n",
            "Random vector with maximum value replaced by 0: [0.5642586  0.87418432 0.93058389 0.46614623 0.26895842 0.\n",
            " 0.21570138 0.85950833 0.10696711 0.76300986]\n",
            "Random array: [1 8 2 3 0 0 6 4 3 3 1 8 2 3 7 2 9 4 7 2]\n",
            "Most frequent value in the array: 2\n"
          ]
        }
      ],
      "source": [
        "#LAB 3\n",
        "import numpy as np\n",
        "\n",
        "# a. Create a random vector of size 10 and sort it\n",
        "random_vector = np.random.random(10)\n",
        "sorted_vector = np.sort(random_vector)\n",
        "print(\"Random vector of size 10:\", random_vector)\n",
        "print(\"Sorted vector:\", sorted_vector)\n",
        "\n",
        "# b. Create two random arrays A and B, Check if they are equal\n",
        "A = np.random.randint(0, 10, 10)\n",
        "B = np.random.randint(0, 10, 10)\n",
        "are_equal = np.array_equal(A, B)\n",
        "print(\"Array A:\", A)\n",
        "print(\"Array B:\", B)\n",
        "print(\"Are A and B equal?\", are_equal)\n",
        "\n",
        "# c. Make an array immutable\n",
        "immutable_array = np.random.random(10)\n",
        "immutable_array.flags.writeable = False\n",
        "print(\"Immutable array:\", immutable_array)\n",
        "\n",
        "# d. Create a random vector of size 10 and replace the maximum value by 0\n",
        "vector = np.random.random(10)\n",
        "max_index = np.argmax(vector)\n",
        "vector[max_index] = 0\n",
        "print(\"Random vector with maximum value replaced by 0:\", vector)\n",
        "\n",
        "# e. Find the most frequent value in the array from a random array\n",
        "random_array = np.random.randint(0, 10, 20)\n",
        "most_frequent_value = np.bincount(random_array).argmax()\n",
        "print(\"Random array:\", random_array)\n",
        "print(\"Most frequent value in the array:\", most_frequent_value)\n"
      ]
    },
    {
      "cell_type": "code",
      "execution_count": 4,
      "metadata": {
        "colab": {
          "base_uri": "https://localhost:8080/"
        },
        "id": "VhweQF_wfmOr",
        "outputId": "d7758556-b1ad-4514-b747-c579e44081a3"
      },
      "outputs": [
        {
          "output_type": "stream",
          "name": "stdout",
          "text": [
            "Data Type Object (2D Array):\n",
            " [[1 2 3]\n",
            " [4 5 6]\n",
            " [7 8 9]]\n",
            "Sum of all elements: 45\n",
            "Square root of each element:\n",
            " [[1.         1.41421356 1.73205081]\n",
            " [2.         2.23606798 2.44948974]\n",
            " [2.64575131 2.82842712 3.        ]]\n",
            "Transpose of the array:\n",
            " [[1 4 7]\n",
            " [2 5 8]\n",
            " [3 6 9]]\n"
          ]
        }
      ],
      "source": [
        "#Lab 4\n",
        "import numpy as np\n",
        "\n",
        "# Create a data type object (2D array)\n",
        "data = np.array([[1, 2, 3], [4, 5, 6], [7, 8, 9]])\n",
        "print(\"Data Type Object (2D Array):\\n\", data)\n",
        "\n",
        "# Sum of all elements\n",
        "sum_elements = np.sum(data)\n",
        "print(\"Sum of all elements:\", sum_elements)\n",
        "\n",
        "# Square root of each element\n",
        "sqrt_elements = np.sqrt(data)\n",
        "print(\"Square root of each element:\\n\", sqrt_elements)\n",
        "\n",
        "# Transpose of the array\n",
        "transposed_data = np.transpose(data)\n",
        "print(\"Transpose of the array:\\n\", transposed_data)"
      ]
    },
    {
      "cell_type": "code",
      "execution_count": 5,
      "metadata": {
        "colab": {
          "base_uri": "https://localhost:8080/"
        },
        "id": "iY4nTC9ifw4u",
        "outputId": "9fb925e7-8d05-424c-fef3-9db526233d0f"
      },
      "outputs": [
        {
          "output_type": "stream",
          "name": "stdout",
          "text": [
            "Vertical Stack:\n",
            " [[1 2 3]\n",
            " [4 5 6]]\n",
            "Horizontal Stack:\n",
            " [1 2 3 4 5 6]\n",
            "Row Stack:\n",
            " [[1 2 3]\n",
            " [4 5 6]]\n",
            "Column Stack:\n",
            " [[1 4]\n",
            " [2 5]\n",
            " [3 6]]\n"
          ]
        }
      ],
      "source": [
        "#Lab 5\n",
        "import numpy as np\n",
        "\n",
        "# Create two arrays\n",
        "array1 = np.array([1, 2, 3])\n",
        "array2 = np.array([4, 5, 6])\n",
        "\n",
        "# Vertical stacking\n",
        "vertical_stack = np.vstack((array1, array2))\n",
        "print(\"Vertical Stack:\\n\", vertical_stack)\n",
        "\n",
        "# Horizontal stacking\n",
        "horizontal_stack = np.hstack((array1, array2))\n",
        "print(\"Horizontal Stack:\\n\", horizontal_stack)\n",
        "\n",
        "# Row-wise depth stacking\n",
        "row_stack = np.vstack((array1, array2))\n",
        "print(\"Row Stack:\\n\", row_stack)\n",
        "\n",
        "# Column stacking\n",
        "column_stack = np.column_stack((array1, array2))\n",
        "print(\"Column Stack:\\n\", column_stack)"
      ]
    },
    {
      "cell_type": "code",
      "execution_count": 6,
      "metadata": {
        "colab": {
          "base_uri": "https://localhost:8080/"
        },
        "id": "-BNVWWEk6JCD",
        "outputId": "1667e053-5701-4dfc-c69f-54308cd1fa8e"
      },
      "outputs": [
        {
          "output_type": "stream",
          "name": "stdout",
          "text": [
            "0.0002\n"
          ]
        }
      ],
      "source": [
        "from scipy import constants\n",
        "print(constants.carat)"
      ]
    },
    {
      "cell_type": "code",
      "execution_count": 7,
      "metadata": {
        "colab": {
          "base_uri": "https://localhost:8080/"
        },
        "id": "0b1Q8qFQ6cOE",
        "outputId": "362efc0b-9fac-4adb-ea55-61ec05437960"
      },
      "outputs": [
        {
          "output_type": "stream",
          "name": "stdout",
          "text": [
            "1180591620717411303424\n"
          ]
        }
      ],
      "source": [
        "print(constants.zebi)"
      ]
    },
    {
      "cell_type": "code",
      "execution_count": 8,
      "metadata": {
        "colab": {
          "base_uri": "https://localhost:8080/"
        },
        "id": "QoEsIJqL6sgT",
        "outputId": "c9e41863-b9ce-4b6d-b261-87df2a9aa16e"
      },
      "outputs": [
        {
          "output_type": "stream",
          "name": "stdout",
          "text": [
            "0.017453292519943295\n"
          ]
        }
      ],
      "source": [
        "print(constants.degree)"
      ]
    },
    {
      "cell_type": "code",
      "execution_count": 9,
      "metadata": {
        "colab": {
          "base_uri": "https://localhost:8080/"
        },
        "id": "9JVZ-z7t65Go",
        "outputId": "20b5f08d-d8c9-48fa-b17b-cebd9d59e89c"
      },
      "outputs": [
        {
          "output_type": "stream",
          "name": "stdout",
          "text": [
            "31557600.0\n"
          ]
        }
      ],
      "source": [
        "print(constants.Julian_year)"
      ]
    },
    {
      "cell_type": "code",
      "execution_count": 10,
      "metadata": {
        "colab": {
          "base_uri": "https://localhost:8080/"
        },
        "id": "uf4Chu3e7Dad",
        "outputId": "d6873a57-b030-4728-cf0f-a1ba564607de"
      },
      "outputs": [
        {
          "output_type": "stream",
          "name": "stdout",
          "text": [
            "604800.0\n"
          ]
        }
      ],
      "source": [
        "print(constants.week)"
      ]
    },
    {
      "cell_type": "code",
      "execution_count": 11,
      "metadata": {
        "colab": {
          "base_uri": "https://localhost:8080/"
        },
        "id": "PkWofpAx7N6T",
        "outputId": "b0804369-a7a0-4ff8-9466-e2c50d46b672"
      },
      "outputs": [
        {
          "output_type": "stream",
          "name": "stdout",
          "text": [
            "149597870700.0\n"
          ]
        }
      ],
      "source": [
        "print(constants.astronomical_unit)"
      ]
    },
    {
      "cell_type": "code",
      "execution_count": 12,
      "metadata": {
        "colab": {
          "base_uri": "https://localhost:8080/"
        },
        "id": "-MJ8H3C_7YTg",
        "outputId": "5142557c-3718-4477-a664-b0d325df6fb7"
      },
      "outputs": [
        {
          "output_type": "stream",
          "name": "stdout",
          "text": [
            "101325.0\n"
          ]
        }
      ],
      "source": [
        "print(constants.atmosphere)"
      ]
    },
    {
      "cell_type": "code",
      "execution_count": 13,
      "metadata": {
        "colab": {
          "base_uri": "https://localhost:8080/"
        },
        "id": "3AQzgUpK7j9C",
        "outputId": "37dc9383-a203-47cb-c60a-f174093e95ee"
      },
      "outputs": [
        {
          "output_type": "stream",
          "name": "stdout",
          "text": [
            "1.14.1\n"
          ]
        }
      ],
      "source": [
        "import scipy\n",
        "print(scipy.__version__)"
      ]
    },
    {
      "cell_type": "code",
      "execution_count": 14,
      "metadata": {
        "colab": {
          "base_uri": "https://localhost:8080/"
        },
        "id": "5XFkftwF7_pf",
        "outputId": "61c16e14-b5bd-40db-9bae-693fb380e21d"
      },
      "outputs": [
        {
          "output_type": "stream",
          "name": "stdout",
          "text": [
            "101325.0\n"
          ]
        }
      ],
      "source": [
        "print(constants.atm)"
      ]
    },
    {
      "cell_type": "code",
      "execution_count": 15,
      "metadata": {
        "colab": {
          "base_uri": "https://localhost:8080/"
        },
        "id": "ftPYInngTPD6",
        "outputId": "f76b8939-547e-464b-f396-9c451e3f9ceb"
      },
      "outputs": [
        {
          "output_type": "stream",
          "name": "stdout",
          "text": [
            "<Compressed Sparse Row sparse matrix of dtype 'int64'\n",
            "\twith 5 stored elements and shape (1, 9)>\n",
            "  Coords\tValues\n",
            "  (0, 2)\t4\n",
            "  (0, 3)\t5\n",
            "  (0, 5)\t1\n",
            "  (0, 6)\t7\n",
            "  (0, 8)\t9\n"
          ]
        }
      ],
      "source": [
        "import numpy as np\n",
        "from scipy.sparse import csr_matrix\n",
        "\n",
        "arr = np.array([0, 0, 4, 5, 0, 1, 7, 0, 9])\n",
        "\n",
        "print(csr_matrix(arr))"
      ]
    },
    {
      "cell_type": "code",
      "execution_count": 16,
      "metadata": {
        "colab": {
          "base_uri": "https://localhost:8080/"
        },
        "id": "Jimgvq20Touv",
        "outputId": "1f5f6563-4fd6-41ac-a3ca-faf7cfc616ee"
      },
      "outputs": [
        {
          "output_type": "stream",
          "name": "stdout",
          "text": [
            "[5 1 1 1 2]\n"
          ]
        }
      ],
      "source": [
        "\n",
        "arr = np.array([[0, 0, 5], [1, 0, 1], [1, 0, 2]])\n",
        "\n",
        "print(csr_matrix(arr).data)"
      ]
    },
    {
      "cell_type": "code",
      "execution_count": 17,
      "metadata": {
        "colab": {
          "base_uri": "https://localhost:8080/"
        },
        "id": "zegCJrmdT3OX",
        "outputId": "19ce6a53-e60e-4bfc-ab83-4397d4d72903"
      },
      "outputs": [
        {
          "output_type": "stream",
          "name": "stdout",
          "text": [
            "6\n"
          ]
        }
      ],
      "source": [
        "arr = np.array([[0, 4, 3], [3, 0, 1], [1, 0, 2]])\n",
        "\n",
        "print(csr_matrix(arr).count_nonzero())"
      ]
    },
    {
      "cell_type": "code",
      "execution_count": 18,
      "metadata": {
        "colab": {
          "base_uri": "https://localhost:8080/"
        },
        "id": "FzjxWFBDUB9y",
        "outputId": "68ad9e71-bdf2-4d5f-a0d7-ca8a4d8e6aad"
      },
      "outputs": [
        {
          "output_type": "stream",
          "name": "stdout",
          "text": [
            "<Compressed Sparse Row sparse matrix of dtype 'int64'\n",
            "\twith 7 stored elements and shape (3, 3)>\n",
            "  Coords\tValues\n",
            "  (0, 0)\t5\n",
            "  (0, 1)\t3\n",
            "  (0, 2)\t2\n",
            "  (1, 0)\t4\n",
            "  (1, 2)\t1\n",
            "  (2, 0)\t1\n",
            "  (2, 2)\t2\n"
          ]
        }
      ],
      "source": [
        "arr = np.array([[5, 3, 2], [4, 0, 1], [1, 0, 2]])\n",
        "\n",
        "mat = csr_matrix(arr)\n",
        "mat.sum_duplicates()\n",
        "\n",
        "print(mat)"
      ]
    },
    {
      "cell_type": "code",
      "execution_count": 19,
      "metadata": {
        "colab": {
          "base_uri": "https://localhost:8080/"
        },
        "id": "OZoc4CFaiWBg",
        "outputId": "738eca48-283b-4b24-925e-198dd4301674"
      },
      "outputs": [
        {
          "output_type": "stream",
          "name": "stdout",
          "text": [
            "Series from Scalar Value:\n",
            "1    15\n",
            "2    15\n",
            "3    15\n",
            "4    15\n",
            "5    15\n",
            "dtype: int64\n",
            "\n",
            "Series from Dictionary:\n",
            "A    11\n",
            "B    24\n",
            "C    32\n",
            "D    47\n",
            "dtype: int64\n",
            "\n",
            "Series from NumPy ndarray:\n",
            "0    10\n",
            "1    20\n",
            "2    30\n",
            "3    40\n",
            "4    50\n",
            "dtype: int64\n"
          ]
        }
      ],
      "source": [
        "#Lab 6\n",
        "import pandas as pd\n",
        "import numpy as np\n",
        "\n",
        "# 6a. Creating a Series from a scalar value\n",
        "scalar_value = 15\n",
        "series_from_scalar = pd.Series(scalar_value, index=[1, 2, 3, 4, 5])\n",
        "print(\"Series from Scalar Value:\")\n",
        "print(series_from_scalar)\n",
        "\n",
        "# 6b. Creating a Series from a dictionary\n",
        "dict_data = {'A': 11, 'B': 24, 'C': 32, 'D': 47}\n",
        "series_from_dict = pd.Series(dict_data)\n",
        "print(\"\\nSeries from Dictionary:\")\n",
        "print(series_from_dict)\n",
        "\n",
        "# 6c. Creating a Series from a NumPy ndarray\n",
        "ndarray_data = np.array([10, 20, 30, 40, 50])\n",
        "series_from_ndarray = pd.Series(ndarray_data)\n",
        "print(\"\\nSeries from NumPy ndarray:\")\n",
        "print(series_from_ndarray)\n"
      ]
    },
    {
      "cell_type": "code",
      "execution_count": 20,
      "metadata": {
        "colab": {
          "base_uri": "https://localhost:8080/"
        },
        "id": "0Q9kb_dgi3kB",
        "outputId": "887f17c7-b702-4576-b20c-9ed9b1afba5c"
      },
      "outputs": [
        {
          "output_type": "stream",
          "name": "stdout",
          "text": [
            "DataFrame from Dictionary:\n",
            "            Name  Age       City\n",
            "0  Dhana Lakshmi   21     Odisha\n",
            "1        Deepthi   21       Pune\n",
            "2        Vasista   20     Guntur\n",
            "3      Sri Nidhi   20  Hyderabad\n",
            "\n",
            "DataFrame from Series:\n",
            "   Value\n",
            "P     10\n",
            "Q     20\n",
            "R     30\n",
            "\n",
            "DataFrame from 2D NumPy ndarray:\n",
            "    X   Y   Z\n",
            "0  11  12  31\n",
            "1  14  25  26\n",
            "2  17  18  29\n"
          ]
        }
      ],
      "source": [
        "#Lab 7\n",
        "import pandas as pd\n",
        "import numpy as np\n",
        "\n",
        "# 7a. Creating a DataFrame from a dictionary\n",
        "data_dict = {\n",
        "    'Name': ['Dhana Lakshmi', 'Deepthi', 'Vasista', 'Sri Nidhi'],\n",
        "    'Age': [21, 21, 20, 20],\n",
        "    'City': ['Odisha', 'Pune', 'Guntur', 'Hyderabad']\n",
        "}\n",
        "df_from_dict = pd.DataFrame(data_dict)\n",
        "print(\"DataFrame from Dictionary:\")\n",
        "print(df_from_dict)\n",
        "\n",
        "# 7b. Creating a DataFrame from a Series\n",
        "series_data = pd.Series([10, 20, 30], index=['P', 'Q', 'R'])\n",
        "df_from_series = pd.DataFrame(series_data, columns=['Value'])\n",
        "print(\"\\nDataFrame from Series:\")\n",
        "print(df_from_series)\n",
        "\n",
        "# 7c. Creating a DataFrame from a 2D NumPy ndarray\n",
        "ndarray_data = np.array([[11, 12, 31], [14, 25, 26], [17, 18, 29]])\n",
        "df_from_ndarray = pd.DataFrame(ndarray_data, columns=['X', 'Y', 'Z'])\n",
        "print(\"\\nDataFrame from 2D NumPy ndarray:\")\n",
        "print(df_from_ndarray)\n"
      ]
    },
    {
      "cell_type": "code",
      "execution_count": 21,
      "metadata": {
        "colab": {
          "base_uri": "https://localhost:8080/",
          "height": 373
        },
        "id": "OjBK7wXlmxaL",
        "outputId": "f82733d2-7948-4c85-d33b-4a420430a6d1"
      },
      "outputs": [
        {
          "output_type": "error",
          "ename": "FileNotFoundError",
          "evalue": "[Errno 2] No such file or directory: 'industry_sic.csv'",
          "traceback": [
            "\u001b[0;31m---------------------------------------------------------------------------\u001b[0m",
            "\u001b[0;31mFileNotFoundError\u001b[0m                         Traceback (most recent call last)",
            "\u001b[0;32m<ipython-input-21-11ca1e32cb9d>\u001b[0m in \u001b[0;36m<cell line: 0>\u001b[0;34m()\u001b[0m\n\u001b[1;32m      3\u001b[0m \u001b[0;34m\u001b[0m\u001b[0m\n\u001b[1;32m      4\u001b[0m \u001b[0;31m# Read data from the attached CSV file\u001b[0m\u001b[0;34m\u001b[0m\u001b[0;34m\u001b[0m\u001b[0m\n\u001b[0;32m----> 5\u001b[0;31m \u001b[0mdata\u001b[0m \u001b[0;34m=\u001b[0m \u001b[0mpd\u001b[0m\u001b[0;34m.\u001b[0m\u001b[0mread_csv\u001b[0m\u001b[0;34m(\u001b[0m\u001b[0;34m'industry_sic.csv'\u001b[0m\u001b[0;34m)\u001b[0m\u001b[0;34m\u001b[0m\u001b[0;34m\u001b[0m\u001b[0m\n\u001b[0m\u001b[1;32m      6\u001b[0m \u001b[0;34m\u001b[0m\u001b[0m\n\u001b[1;32m      7\u001b[0m \u001b[0;31m# Display the data\u001b[0m\u001b[0;34m\u001b[0m\u001b[0;34m\u001b[0m\u001b[0m\n",
            "\u001b[0;32m/usr/local/lib/python3.11/dist-packages/pandas/io/parsers/readers.py\u001b[0m in \u001b[0;36mread_csv\u001b[0;34m(filepath_or_buffer, sep, delimiter, header, names, index_col, usecols, dtype, engine, converters, true_values, false_values, skipinitialspace, skiprows, skipfooter, nrows, na_values, keep_default_na, na_filter, verbose, skip_blank_lines, parse_dates, infer_datetime_format, keep_date_col, date_parser, date_format, dayfirst, cache_dates, iterator, chunksize, compression, thousands, decimal, lineterminator, quotechar, quoting, doublequote, escapechar, comment, encoding, encoding_errors, dialect, on_bad_lines, delim_whitespace, low_memory, memory_map, float_precision, storage_options, dtype_backend)\u001b[0m\n\u001b[1;32m   1024\u001b[0m     \u001b[0mkwds\u001b[0m\u001b[0;34m.\u001b[0m\u001b[0mupdate\u001b[0m\u001b[0;34m(\u001b[0m\u001b[0mkwds_defaults\u001b[0m\u001b[0;34m)\u001b[0m\u001b[0;34m\u001b[0m\u001b[0;34m\u001b[0m\u001b[0m\n\u001b[1;32m   1025\u001b[0m \u001b[0;34m\u001b[0m\u001b[0m\n\u001b[0;32m-> 1026\u001b[0;31m     \u001b[0;32mreturn\u001b[0m \u001b[0m_read\u001b[0m\u001b[0;34m(\u001b[0m\u001b[0mfilepath_or_buffer\u001b[0m\u001b[0;34m,\u001b[0m \u001b[0mkwds\u001b[0m\u001b[0;34m)\u001b[0m\u001b[0;34m\u001b[0m\u001b[0;34m\u001b[0m\u001b[0m\n\u001b[0m\u001b[1;32m   1027\u001b[0m \u001b[0;34m\u001b[0m\u001b[0m\n\u001b[1;32m   1028\u001b[0m \u001b[0;34m\u001b[0m\u001b[0m\n",
            "\u001b[0;32m/usr/local/lib/python3.11/dist-packages/pandas/io/parsers/readers.py\u001b[0m in \u001b[0;36m_read\u001b[0;34m(filepath_or_buffer, kwds)\u001b[0m\n\u001b[1;32m    618\u001b[0m \u001b[0;34m\u001b[0m\u001b[0m\n\u001b[1;32m    619\u001b[0m     \u001b[0;31m# Create the parser.\u001b[0m\u001b[0;34m\u001b[0m\u001b[0;34m\u001b[0m\u001b[0m\n\u001b[0;32m--> 620\u001b[0;31m     \u001b[0mparser\u001b[0m \u001b[0;34m=\u001b[0m \u001b[0mTextFileReader\u001b[0m\u001b[0;34m(\u001b[0m\u001b[0mfilepath_or_buffer\u001b[0m\u001b[0;34m,\u001b[0m \u001b[0;34m**\u001b[0m\u001b[0mkwds\u001b[0m\u001b[0;34m)\u001b[0m\u001b[0;34m\u001b[0m\u001b[0;34m\u001b[0m\u001b[0m\n\u001b[0m\u001b[1;32m    621\u001b[0m \u001b[0;34m\u001b[0m\u001b[0m\n\u001b[1;32m    622\u001b[0m     \u001b[0;32mif\u001b[0m \u001b[0mchunksize\u001b[0m \u001b[0;32mor\u001b[0m \u001b[0miterator\u001b[0m\u001b[0;34m:\u001b[0m\u001b[0;34m\u001b[0m\u001b[0;34m\u001b[0m\u001b[0m\n",
            "\u001b[0;32m/usr/local/lib/python3.11/dist-packages/pandas/io/parsers/readers.py\u001b[0m in \u001b[0;36m__init__\u001b[0;34m(self, f, engine, **kwds)\u001b[0m\n\u001b[1;32m   1618\u001b[0m \u001b[0;34m\u001b[0m\u001b[0m\n\u001b[1;32m   1619\u001b[0m         \u001b[0mself\u001b[0m\u001b[0;34m.\u001b[0m\u001b[0mhandles\u001b[0m\u001b[0;34m:\u001b[0m \u001b[0mIOHandles\u001b[0m \u001b[0;34m|\u001b[0m \u001b[0;32mNone\u001b[0m \u001b[0;34m=\u001b[0m \u001b[0;32mNone\u001b[0m\u001b[0;34m\u001b[0m\u001b[0;34m\u001b[0m\u001b[0m\n\u001b[0;32m-> 1620\u001b[0;31m         \u001b[0mself\u001b[0m\u001b[0;34m.\u001b[0m\u001b[0m_engine\u001b[0m \u001b[0;34m=\u001b[0m \u001b[0mself\u001b[0m\u001b[0;34m.\u001b[0m\u001b[0m_make_engine\u001b[0m\u001b[0;34m(\u001b[0m\u001b[0mf\u001b[0m\u001b[0;34m,\u001b[0m \u001b[0mself\u001b[0m\u001b[0;34m.\u001b[0m\u001b[0mengine\u001b[0m\u001b[0;34m)\u001b[0m\u001b[0;34m\u001b[0m\u001b[0;34m\u001b[0m\u001b[0m\n\u001b[0m\u001b[1;32m   1621\u001b[0m \u001b[0;34m\u001b[0m\u001b[0m\n\u001b[1;32m   1622\u001b[0m     \u001b[0;32mdef\u001b[0m \u001b[0mclose\u001b[0m\u001b[0;34m(\u001b[0m\u001b[0mself\u001b[0m\u001b[0;34m)\u001b[0m \u001b[0;34m->\u001b[0m \u001b[0;32mNone\u001b[0m\u001b[0;34m:\u001b[0m\u001b[0;34m\u001b[0m\u001b[0;34m\u001b[0m\u001b[0m\n",
            "\u001b[0;32m/usr/local/lib/python3.11/dist-packages/pandas/io/parsers/readers.py\u001b[0m in \u001b[0;36m_make_engine\u001b[0;34m(self, f, engine)\u001b[0m\n\u001b[1;32m   1878\u001b[0m                 \u001b[0;32mif\u001b[0m \u001b[0;34m\"b\"\u001b[0m \u001b[0;32mnot\u001b[0m \u001b[0;32min\u001b[0m \u001b[0mmode\u001b[0m\u001b[0;34m:\u001b[0m\u001b[0;34m\u001b[0m\u001b[0;34m\u001b[0m\u001b[0m\n\u001b[1;32m   1879\u001b[0m                     \u001b[0mmode\u001b[0m \u001b[0;34m+=\u001b[0m \u001b[0;34m\"b\"\u001b[0m\u001b[0;34m\u001b[0m\u001b[0;34m\u001b[0m\u001b[0m\n\u001b[0;32m-> 1880\u001b[0;31m             self.handles = get_handle(\n\u001b[0m\u001b[1;32m   1881\u001b[0m                 \u001b[0mf\u001b[0m\u001b[0;34m,\u001b[0m\u001b[0;34m\u001b[0m\u001b[0;34m\u001b[0m\u001b[0m\n\u001b[1;32m   1882\u001b[0m                 \u001b[0mmode\u001b[0m\u001b[0;34m,\u001b[0m\u001b[0;34m\u001b[0m\u001b[0;34m\u001b[0m\u001b[0m\n",
            "\u001b[0;32m/usr/local/lib/python3.11/dist-packages/pandas/io/common.py\u001b[0m in \u001b[0;36mget_handle\u001b[0;34m(path_or_buf, mode, encoding, compression, memory_map, is_text, errors, storage_options)\u001b[0m\n\u001b[1;32m    871\u001b[0m         \u001b[0;32mif\u001b[0m \u001b[0mioargs\u001b[0m\u001b[0;34m.\u001b[0m\u001b[0mencoding\u001b[0m \u001b[0;32mand\u001b[0m \u001b[0;34m\"b\"\u001b[0m \u001b[0;32mnot\u001b[0m \u001b[0;32min\u001b[0m \u001b[0mioargs\u001b[0m\u001b[0;34m.\u001b[0m\u001b[0mmode\u001b[0m\u001b[0;34m:\u001b[0m\u001b[0;34m\u001b[0m\u001b[0;34m\u001b[0m\u001b[0m\n\u001b[1;32m    872\u001b[0m             \u001b[0;31m# Encoding\u001b[0m\u001b[0;34m\u001b[0m\u001b[0;34m\u001b[0m\u001b[0m\n\u001b[0;32m--> 873\u001b[0;31m             handle = open(\n\u001b[0m\u001b[1;32m    874\u001b[0m                 \u001b[0mhandle\u001b[0m\u001b[0;34m,\u001b[0m\u001b[0;34m\u001b[0m\u001b[0;34m\u001b[0m\u001b[0m\n\u001b[1;32m    875\u001b[0m                 \u001b[0mioargs\u001b[0m\u001b[0;34m.\u001b[0m\u001b[0mmode\u001b[0m\u001b[0;34m,\u001b[0m\u001b[0;34m\u001b[0m\u001b[0;34m\u001b[0m\u001b[0m\n",
            "\u001b[0;31mFileNotFoundError\u001b[0m: [Errno 2] No such file or directory: 'industry_sic.csv'"
          ]
        }
      ],
      "source": [
        "#LAB 8\n",
        "import pandas as pd\n",
        "\n",
        "# Read data from the attached CSV file\n",
        "data = pd.read_csv('industry_sic.csv')\n",
        "\n",
        "# Display the data\n",
        "print(\"Data from CSV file:\")\n",
        "print(data.head())\n",
        "\n",
        "# Modify the data: Adding a new column 'Category' using the provided syntax\n",
        "data['Category'] = 'Short'  # Default value\n",
        "data.loc[data['Description'].str.len() >= 50, 'Category'] = 'Long'  # Update based on condition\n",
        "\n",
        "# Write the modified data back to a new CSV file\n",
        "data.to_csv('modified_industry_sic.csv' , index=False)\n",
        "\n",
        "print(\"Modified data has been written to modified_industry_sic.csv\")\n",
        "print(data.head())"
      ]
    },
    {
      "cell_type": "code",
      "execution_count": null,
      "metadata": {
        "id": "e9IAX0mr6wzF"
      },
      "outputs": [],
      "source": [
        "#LAB 9\n",
        "import pandas as pd\n",
        "\n",
        "# Define the path for the input XLSX file\n",
        "xlsx_file_path = '/content/file_example_XLSX_50.xlsx'\n",
        "\n",
        "# Read the Excel file\n",
        "data = pd.read_excel(xlsx_file_path)\n",
        "print(\"Data from XLSX file:\")\n",
        "print(data.head())\n",
        "\n",
        "# Modify the data\n",
        "data['Employee'] = 'Registered' # Update based on condition\n",
        "output_xlsx_path = 'modified_file_example_v2.xlsx'\n",
        "\n",
        "# Write the modified data back to a new XLSX file\n",
        "data.to_excel(output_xlsx_path)\n",
        "print(f\"{output_xlsx_path}\")\n",
        "print(data.head())\n",
        "\n"
      ]
    },
    {
      "cell_type": "code",
      "execution_count": null,
      "metadata": {
        "id": "yERaaM7NjeHv"
      },
      "outputs": [],
      "source": [
        "#LAB 10\n",
        "import pandas as pd\n",
        "\n",
        "# Create a sample DataFrame\n",
        "data = pd.DataFrame({\n",
        "    'Name': ['Nidhi', 'vasista', 'deepthi', 'Dhana', 'nitya', 'sarmista',\n",
        "             'Kavya', 'Iyer', 'devansh', 'Divya', 'neelimma', 'sanjana',\n",
        "             'Naveen', 'viswa', 'shreya', 'lahari', 'niraj', 'ramana'],\n",
        "    'Age': [20, 21, 21, 21, 28, 22,\n",
        "            23, 21, 27, 23, 27, 22,\n",
        "            24, 21, 25, 25, 22, 24],\n",
        "    'Salary': [50000, 60000, 70000, 80000, 55000, 65000,\n",
        "              60000, 50000, 80000, 70000, 65000, 50000,\n",
        "               55000, 60000, 75000, 85000, 55000, 60000]\n",
        "})\n",
        "\n",
        "# Display the top 5 rows\n",
        "print(\"Top 5 Rows:\")\n",
        "print(data.head())\n",
        "\n",
        "# Display the bottom 5 rows\n",
        "print(\"\\nBottom 5 Rows:\")\n",
        "print(data.tail())\n",
        "#Display of Borrow conditional data\n",
        "filtered_data = data[data['Salary'] <= 55000]\n",
        "print(\"\\nData where Salary is 65000 or less:\")\n",
        "print(filtered_data)\n",
        "\n",
        "# Display statistical details of the DataFrame\n",
        "print(\"\\nStatistical Details\")\n",
        "print(data.describe())\n"
      ]
    },
    {
      "cell_type": "code",
      "execution_count": null,
      "metadata": {
        "id": "1rQUuLmgkFpS"
      },
      "outputs": [],
      "source": [
        "#LAB 11\n",
        "import pandas as pd\n",
        "\n",
        "# Load the CSV file\n",
        "file_path = '/content/students_data.csv'\n",
        "df = pd.read_csv(file_path)\n",
        "print(df.head())\n",
        "# Filter students who scored 60 or above in all subjects\n",
        "filtered_students = df[(df['Maths'] >= 60) &\n",
        "                       (df['Science'] >= 60) &\n",
        "                       (df['EVS'] >= 60) &\n",
        "                       (df['English'] >= 60) &\n",
        "                       (df['History'] >= 60)]\n",
        "\n",
        "# Display filtered students\n",
        "print(filtered_students)"
      ]
    },
    {
      "cell_type": "code",
      "execution_count": null,
      "metadata": {
        "id": "MpKCA0veQpDB"
      },
      "outputs": [],
      "source": [
        "#LAB 12\n",
        "import numpy as np\n",
        "import matplotlib.pyplot as plt\n",
        "\n",
        "x = np.arange(100)\n",
        "y = np.random.rand(100)\n",
        "\n",
        "plt.scatter(x, y)\n",
        "plt.title(\"Scatter Plot of Random Numbers\")\n",
        "plt.show()"
      ]
    },
    {
      "cell_type": "code",
      "execution_count": null,
      "metadata": {
        "id": "2FSgwAatQzG0"
      },
      "outputs": [],
      "source": [
        "#LAB 13\n",
        "import pandas as pd\n",
        "import matplotlib.pyplot as plt\n",
        "\n",
        "data = {\"Day\": range(1, 11), \"Temperature\": [30, 32, 31, 29, 28, 30, 33, 32, 31, 29]}\n",
        "df = pd.DataFrame(data)\n",
        "df.to_csv(\"temperature.csv\", index=False)\n",
        "\n",
        "plt.plot(df[\"Day\"], df[\"Temperature\"], marker='*')\n",
        "plt.title(\"Temperature Over 10 Days\")\n",
        "plt.xlabel(\"Day\")\n",
        "plt.ylabel(\"Temperature (°C)\")\n",
        "plt.show()"
      ]
    },
    {
      "cell_type": "code",
      "execution_count": null,
      "metadata": {
        "id": "u6TErDK0Q9Jb"
      },
      "outputs": [],
      "source": [
        "#LAB 14\n",
        "import numpy as np\n",
        "import matplotlib.pyplot as plt\n",
        "\n",
        "numbers = np.random.randint(1, 101, 100)\n",
        "\n",
        "plt.hist(numbers, bins=10, edgecolor='black')\n",
        "plt.title(\"Histogram of Random Numbers\")\n",
        "plt.xlabel(\"Range\")\n",
        "plt.ylabel(\"Frequency\")\n",
        "plt.show()"
      ]
    },
    {
      "cell_type": "code",
      "execution_count": 27,
      "metadata": {
        "colab": {
          "base_uri": "https://localhost:8080/",
          "height": 428
        },
        "id": "Io8yKy4aRBxR",
        "outputId": "50836e12-abe8-49c8-a8a5-cc71c6903a4e"
      },
      "outputs": [
        {
          "output_type": "display_data",
          "data": {
            "text/plain": [
              "<Figure size 640x480 with 1 Axes>"
            ],
            "image/png": "[encoded data removed]"
          },
          "metadata": {}
        }
      ],
      "source": [
        "#LAB 15\n",
        "import pandas as pd\n",
        "import matplotlib.pyplot as plt\n",
        "\n",
        "attendance = [5, 8, 12, 15]  # Example counts for each category\n",
        "labels = [\"0-50%\", \"51-60%\", \"61-75%\", \"75% and above\"]\n",
        "\n",
        "df = pd.DataFrame({\"Category\": labels, \"Count\": attendance})\n",
        "df.to_csv(\"attendance.csv\", index=False)\n",
        "\n",
        "plt.pie(attendance, labels=labels, autopct=\"%1.1f%%\")\n",
        "plt.title(\"Attendance Distribution\")\n",
        "plt.show()"
      ]
    },
    {
      "cell_type": "code",
      "source": [
        "!pip uninstall numpy"
      ],
      "metadata": {
        "colab": {
          "base_uri": "https://localhost:8080/"
        },
        "id": "M-OVH66IGHPa",
        "outputId": "85f0062a-3dca-4ad2-e0e3-84ed8ed5814d"
      },
      "execution_count": 25,
      "outputs": [
        {
          "output_type": "stream",
          "name": "stdout",
          "text": [
            "\u001b[31mERROR: Operation cancelled by user\u001b[0m\u001b[31m\n",
            "\u001b[0m"
          ]
        }
      ]
    },
    {
      "cell_type": "code",
      "source": [
        "!pip install numpy==1.21.0"
      ],
      "metadata": {
        "colab": {
          "base_uri": "https://localhost:8080/"
        },
        "id": "BOpw_CENGIy-",
        "outputId": "dfaa0167-186f-4382-eff8-883df50b175a"
      },
      "execution_count": 24,
      "outputs": [
        {
          "output_type": "stream",
          "name": "stdout",
          "text": [
            "Collecting numpy==1.21.0\n",
            "  Using cached numpy-1.21.0.zip (10.3 MB)\n",
            "  Installing build dependencies ... \u001b[?25l\u001b[?25hdone\n",
            "  Getting requirements to build wheel ... \u001b[?25l\u001b[?25hdone\n",
            "  Preparing metadata (pyproject.toml) ... \u001b[?25l\u001b[?25hdone\n",
            "Building wheels for collected packages: numpy\n",
            "  Building wheel for numpy (pyproject.toml) ... \u001b[?25l\u001b[?25hcanceled\u001b[31mERROR: Operation cancelled by user\u001b[0m\u001b[31m\n",
            "\u001b[0m"
          ]
        }
      ]
    },
    {
      "cell_type": "code",
      "source": [
        "!apt-get install -y build-essential python3-dev"
      ],
      "metadata": {
        "colab": {
          "base_uri": "https://localhost:8080/"
        },
        "id": "CvoPMwWuFvhP",
        "outputId": "e9a95db4-2565-4fc7-94b6-979e2e1fd04d"
      },
      "execution_count": 23,
      "outputs": [
        {
          "output_type": "stream",
          "name": "stdout",
          "text": [
            "Reading package lists... Done\n",
            "Building dependency tree... Done\n",
            "Reading state information... Done\n",
            "build-essential is already the newest version (12.9ubuntu3).\n",
            "python3-dev is already the newest version (3.10.6-1~22.04.1).\n",
            "0 upgraded, 0 newly installed, 0 to remove and 29 not upgraded.\n"
          ]
        }
      ]
    },
    {
      "cell_type": "code",
      "source": [
        "!apt-get install -y build-essential python3-dev\n",
        "!pip install numpy==1.21.6 pymc3==3.11.5\n",
        ""
      ],
      "metadata": {
        "colab": {
          "base_uri": "https://localhost:8080/"
        },
        "id": "qC4RZ5MCIMMb",
        "outputId": "4ac418c0-40b6-4d2d-bf5c-930adeb90564"
      },
      "execution_count": 28,
      "outputs": [
        {
          "output_type": "stream",
          "name": "stdout",
          "text": [
            "Reading package lists... Done\n",
            "Building dependency tree... Done\n",
            "Reading state information... Done\n",
            "build-essential is already the newest version (12.9ubuntu3).\n",
            "python3-dev is already the newest version (3.10.6-1~22.04.1).\n",
            "0 upgraded, 0 newly installed, 0 to remove and 29 not upgraded.\n",
            "\u001b[31mERROR: Ignored the following versions that require a different python version: 1.21.2 Requires-Python >=3.7,<3.11; 1.21.3 Requires-Python >=3.7,<3.11; 1.21.4 Requires-Python >=3.7,<3.11; 1.21.5 Requires-Python >=3.7,<3.11; 1.21.6 Requires-Python >=3.7,<3.11\u001b[0m\u001b[31m\n",
            "\u001b[0m\u001b[31mERROR: Could not find a version that satisfies the requirement numpy==1.21.6 (from versions: 1.3.0, 1.4.1, 1.5.0, 1.5.1, 1.6.0, 1.6.1, 1.6.2, 1.7.0, 1.7.1, 1.7.2, 1.8.0, 1.8.1, 1.8.2, 1.9.0, 1.9.1, 1.9.2, 1.9.3, 1.10.0.post2, 1.10.1, 1.10.2, 1.10.4, 1.11.0, 1.11.1, 1.11.2, 1.11.3, 1.12.0, 1.12.1, 1.13.0, 1.13.1, 1.13.3, 1.14.0, 1.14.1, 1.14.2, 1.14.3, 1.14.4, 1.14.5, 1.14.6, 1.15.0, 1.15.1, 1.15.2, 1.15.3, 1.15.4, 1.16.0, 1.16.1, 1.16.2, 1.16.3, 1.16.4, 1.16.5, 1.16.6, 1.17.0, 1.17.1, 1.17.2, 1.17.3, 1.17.4, 1.17.5, 1.18.0, 1.18.1, 1.18.2, 1.18.3, 1.18.4, 1.18.5, 1.19.0, 1.19.1, 1.19.2, 1.19.3, 1.19.4, 1.19.5, 1.20.0, 1.20.1, 1.20.2, 1.20.3, 1.21.0, 1.21.1, 1.22.0, 1.22.1, 1.22.2, 1.22.3, 1.22.4, 1.23.0, 1.23.1, 1.23.2, 1.23.3, 1.23.4, 1.23.5, 1.24.0, 1.24.1, 1.24.2, 1.24.3, 1.24.4, 1.25.0, 1.25.1, 1.25.2, 1.26.0, 1.26.1, 1.26.2, 1.26.3, 1.26.4, 2.0.0, 2.0.1, 2.0.2, 2.1.0rc1, 2.1.0, 2.1.1, 2.1.2, 2.1.3, 2.2.0rc1, 2.2.0, 2.2.1, 2.2.2, 2.2.3, 2.2.4)\u001b[0m\u001b[31m\n",
            "\u001b[0m\u001b[31mERROR: No matching distribution found for numpy==1.21.6\u001b[0m\u001b[31m\n",
            "\u001b[0m"
          ]
        }
      ]
    },
    {
      "cell_type": "code",
      "source": [
        "!pip install --upgrade pip"
      ],
      "metadata": {
        "colab": {
          "base_uri": "https://localhost:8080/"
        },
        "id": "ff1x4xkNKx2A",
        "outputId": "1adcb694-d2fc-4bef-a42c-ff67b188818a"
      },
      "execution_count": 29,
      "outputs": [
        {
          "output_type": "stream",
          "name": "stdout",
          "text": [
            "Requirement already satisfied: pip in /usr/local/lib/python3.11/dist-packages (24.1.2)\n",
            "Collecting pip\n",
            "  Downloading pip-25.0.1-py3-none-any.whl.metadata (3.7 kB)\n",
            "Downloading pip-25.0.1-py3-none-any.whl (1.8 MB)\n",
            "\u001b[2K   \u001b[90m━━━━━━━━━━━━━━━━━━━━━━━━━━━━━━━━━━━━━━━━\u001b[0m \u001b[32m1.8/1.8 MB\u001b[0m \u001b[31m16.5 MB/s\u001b[0m eta \u001b[36m0:00:00\u001b[0m\n",
            "\u001b[?25hInstalling collected packages: pip\n",
            "  Attempting uninstall: pip\n",
            "    Found existing installation: pip 24.1.2\n",
            "    Uninstalling pip-24.1.2:\n",
            "      Successfully uninstalled pip-24.1.2\n",
            "Successfully installed pip-25.0.1\n"
          ]
        }
      ]
    },
    {
      "cell_type": "code",
      "source": [
        "!apt-get install -y build-essential python3-dev\n",
        "!pip install --no-binary :all: \"numpy @ https://github.com/numpy/numpy/archive/v1.21.6.zip\" pymc3==3.11.5"
      ],
      "metadata": {
        "colab": {
          "base_uri": "https://localhost:8080/"
        },
        "id": "W2-i2BUyK1wi",
        "outputId": "c06741dc-6e52-4c83-f59c-814288b1d535"
      },
      "execution_count": 32,
      "outputs": [
        {
          "output_type": "stream",
          "name": "stdout",
          "text": [
            "Reading package lists... Done\n",
            "Building dependency tree... Done\n",
            "Reading state information... Done\n",
            "build-essential is already the newest version (12.9ubuntu3).\n",
            "python3-dev is already the newest version (3.10.6-1~22.04.1).\n",
            "0 upgraded, 0 newly installed, 0 to remove and 29 not upgraded.\n",
            "Collecting numpy@ https://github.com/numpy/numpy/archive/v1.21.6.zip\n",
            "  Downloading https://github.com/numpy/numpy/archive/v1.21.6.zip\n",
            "\u001b[2K     \u001b[32m|\u001b[0m \u001b[32m9.2 MB\u001b[0m \u001b[31m10.7 MB/s\u001b[0m \u001b[33m0:00:00\u001b[0m\n",
            "\u001b[?25h  \u001b[1;31merror\u001b[0m: \u001b[1msubprocess-exited-with-error\u001b[0m\n",
            "  \n",
            "  \u001b[31m×\u001b[0m \u001b[32mpip subprocess to install build dependencies\u001b[0m did not run successfully.\n",
            "  \u001b[31m│\u001b[0m exit code: \u001b[1;36m1\u001b[0m\n",
            "  \u001b[31m╰─>\u001b[0m See above for output.\n",
            "  \n",
            "  \u001b[1;35mnote\u001b[0m: This error originates from a subprocess, and is likely not a problem with pip.\n",
            "  Installing build dependencies ... \u001b[?25l\u001b[?25herror\n",
            "\u001b[1;31merror\u001b[0m: \u001b[1msubprocess-exited-with-error\u001b[0m\n",
            "\n",
            "\u001b[31m×\u001b[0m \u001b[32mpip subprocess to install build dependencies\u001b[0m did not run successfully.\n",
            "\u001b[31m│\u001b[0m exit code: \u001b[1;36m1\u001b[0m\n",
            "\u001b[31m╰─>\u001b[0m See above for output.\n",
            "\n",
            "\u001b[1;35mnote\u001b[0m: This error originates from a subprocess, and is likely not a problem with pip.\n"
          ]
        }
      ]
    },
    {
      "cell_type": "code",
      "source": [
        "!sudo apt-get update && sudo apt-get upgrade -y && sudo apt-get install -y build-essential python3-dev"
      ],
      "metadata": {
        "colab": {
          "base_uri": "https://localhost:8080/"
        },
        "id": "3onIVHa-LVN_",
        "outputId": "fd65daa3-f4ad-4137-ceee-15eaf874afb8"
      },
      "execution_count": 35,
      "outputs": [
        {
          "output_type": "stream",
          "name": "stdout",
          "text": [
            "Get:1 https://cloud.r-project.org/bin/linux/ubuntu jammy-cran40/ InRelease [3,632 B]\n",
            "Get:2 https://developer.download.nvidia.com/compute/cuda/repos/ubuntu2204/x86_64  InRelease [1,581 B]\n",
            "Hit:3 http://archive.ubuntu.com/ubuntu jammy InRelease\n",
            "Get:4 http://security.ubuntu.com/ubuntu jammy-security InRelease [129 kB]\n",
            "Get:5 https://developer.download.nvidia.com/compute/cuda/repos/ubuntu2204/x86_64  Packages [1,381 kB]\n",
            "Get:6 http://archive.ubuntu.com/ubuntu jammy-updates InRelease [128 kB]\n",
            "Get:7 https://r2u.stat.illinois.edu/ubuntu jammy InRelease [6,555 B]\n",
            "Hit:8 https://ppa.launchpadcontent.net/deadsnakes/ppa/ubuntu jammy InRelease\n",
            "Get:9 https://r2u.stat.illinois.edu/ubuntu jammy/main all Packages [8,772 kB]\n",
            "Hit:10 https://ppa.launchpadcontent.net/graphics-drivers/ppa/ubuntu jammy InRelease\n",
            "Hit:11 https://ppa.launchpadcontent.net/ubuntugis/ppa/ubuntu jammy InRelease\n",
            "Get:12 http://archive.ubuntu.com/ubuntu jammy-backports InRelease [127 kB]\n",
            "Get:13 http://security.ubuntu.com/ubuntu jammy-security/universe amd64 Packages [1,238 kB]\n",
            "Get:14 http://archive.ubuntu.com/ubuntu jammy-updates/main amd64 Packages [3,041 kB]\n",
            "Get:15 http://security.ubuntu.com/ubuntu jammy-security/restricted amd64 Packages [3,813 kB]\n",
            "Get:16 http://archive.ubuntu.com/ubuntu jammy-updates/multiverse amd64 Packages [55.7 kB]\n",
            "Get:17 http://archive.ubuntu.com/ubuntu jammy-updates/restricted amd64 Packages [4,041 kB]\n",
            "Get:18 http://security.ubuntu.com/ubuntu jammy-security/main amd64 Packages [2,698 kB]\n",
            "Get:19 http://archive.ubuntu.com/ubuntu jammy-updates/universe amd64 Packages [1,538 kB]\n",
            "Get:20 http://security.ubuntu.com/ubuntu jammy-security/multiverse amd64 Packages [47.7 kB]\n",
            "Get:21 http://archive.ubuntu.com/ubuntu jammy-backports/universe amd64 Packages [35.2 kB]\n",
            "Get:22 https://r2u.stat.illinois.edu/ubuntu jammy/main amd64 Packages [2,680 kB]\n",
            "Fetched 29.7 MB in 5s (6,006 kB/s)\n",
            "Reading package lists... Done\n",
            "W: Skipping acquire of configured file 'main/source/Sources' as repository 'https://r2u.stat.illinois.edu/ubuntu jammy InRelease' does not seem to provide it (sources.list entry misspelt?)\n",
            "Reading package lists... Done\n",
            "Building dependency tree... Done\n",
            "Reading state information... Done\n",
            "Calculating upgrade... Done\n",
            "The following packages have been kept back:\n",
            "  libcudnn9-cuda-12 libcudnn9-dev-cuda-12 libnccl-dev libnccl2\n",
            "  linux-headers-generic\n",
            "The following packages will be upgraded:\n",
            "  base-files binutils binutils-common binutils-x86-64-linux-gnu\n",
            "  cuda-toolkit-12-config-common cuda-toolkit-config-common e2fsprogs\n",
            "  libbinutils libc-bin libcap2 libctf-nobfd0 libctf0 libdw1 libelf1 libext2fs2\n",
            "  libgnutls30 libldap-2.5-0 libpam-modules libpam-modules-bin libpam-runtime\n",
            "  libpam0g libseccomp2 libss2 libtasn1-6 linux-libc-dev logsave openssl\n",
            "  r-cran-curl r-cran-gert r-cran-pkgbuild\n",
            "30 upgraded, 0 newly installed, 0 to remove and 5 not upgraded.\n",
            "Need to get 12.7 MB of archives.\n",
            "After this operation, 133 kB of additional disk space will be used.\n",
            "Get:1 https://developer.download.nvidia.com/compute/cuda/repos/ubuntu2204/x86_64  cuda-toolkit-12-config-common 12.8.90-1 [16.5 kB]\n",
            "Get:2 https://developer.download.nvidia.com/compute/cuda/repos/ubuntu2204/x86_64  cuda-toolkit-config-common 12.8.90-1 [16.5 kB]\n",
            "Get:3 http://archive.ubuntu.com/ubuntu jammy-updates/main amd64 base-files amd64 12ubuntu4.7 [61.9 kB]\n",
            "Get:4 https://r2u.stat.illinois.edu/ubuntu jammy/main amd64 r-cran-curl amd64 6.2.2-1.ca2204.1 [456 kB]\n",
            "Get:5 http://archive.ubuntu.com/ubuntu jammy-updates/main amd64 libc-bin amd64 2.35-0ubuntu3.9 [706 kB]\n",
            "Get:6 http://archive.ubuntu.com/ubuntu jammy-updates/main amd64 libpam0g amd64 1.4.0-11ubuntu2.5 [59.8 kB]\n",
            "Get:7 http://archive.ubuntu.com/ubuntu jammy-updates/main amd64 libpam-modules-bin amd64 1.4.0-11ubuntu2.5 [37.4 kB]\n",
            "Get:8 https://r2u.stat.illinois.edu/ubuntu jammy/main amd64 r-cran-gert amd64 2.1.5-1.ca2204.1 [2,516 kB]\n",
            "Get:9 http://archive.ubuntu.com/ubuntu jammy-updates/main amd64 libpam-modules amd64 1.4.0-11ubuntu2.5 [280 kB]\n",
            "Get:10 http://archive.ubuntu.com/ubuntu jammy-updates/main amd64 logsave amd64 1.46.5-2ubuntu1.2 [10.1 kB]\n",
            "Get:11 http://archive.ubuntu.com/ubuntu jammy-updates/main amd64 libext2fs2 amd64 1.46.5-2ubuntu1.2 [208 kB]\n",
            "Get:12 http://archive.ubuntu.com/ubuntu jammy-updates/main amd64 e2fsprogs amd64 1.46.5-2ubuntu1.2 [590 kB]\n",
            "Get:13 http://archive.ubuntu.com/ubuntu jammy-updates/main amd64 libcap2 amd64 1:2.44-1ubuntu0.22.04.2 [18.3 kB]\n",
            "Get:14 http://archive.ubuntu.com/ubuntu jammy-updates/main amd64 libpam-runtime all 1.4.0-11ubuntu2.5 [40.2 kB]\n",
            "Get:15 http://archive.ubuntu.com/ubuntu jammy-updates/main amd64 libtasn1-6 amd64 4.18.0-4ubuntu0.1 [43.5 kB]\n",
            "Get:16 http://archive.ubuntu.com/ubuntu jammy-updates/main amd64 libgnutls30 amd64 3.7.3-4ubuntu1.6 [969 kB]\n",
            "Get:17 http://archive.ubuntu.com/ubuntu jammy-updates/main amd64 libseccomp2 amd64 2.5.3-2ubuntu3~22.04.1 [47.4 kB]\n",
            "Get:18 http://archive.ubuntu.com/ubuntu jammy-updates/main amd64 libss2 amd64 1.46.5-2ubuntu1.2 [12.3 kB]\n",
            "Get:19 http://archive.ubuntu.com/ubuntu jammy-updates/main amd64 libdw1 amd64 0.186-1ubuntu0.1 [251 kB]\n",
            "Get:20 https://r2u.stat.illinois.edu/ubuntu jammy/main all r-cran-pkgbuild all 1.4.7-1.ca2204.1 [201 kB]\n",
            "Get:21 http://archive.ubuntu.com/ubuntu jammy-updates/main amd64 libelf1 amd64 0.186-1ubuntu0.1 [51.1 kB]\n",
            "Get:22 http://archive.ubuntu.com/ubuntu jammy-updates/main amd64 openssl amd64 3.0.2-0ubuntu1.19 [1,186 kB]\n",
            "Get:23 http://archive.ubuntu.com/ubuntu jammy-updates/main amd64 libctf0 amd64 2.38-4ubuntu2.7 [103 kB]\n",
            "Get:24 http://archive.ubuntu.com/ubuntu jammy-updates/main amd64 libctf-nobfd0 amd64 2.38-4ubuntu2.7 [108 kB]\n",
            "Get:25 http://archive.ubuntu.com/ubuntu jammy-updates/main amd64 binutils-x86-64-linux-gnu amd64 2.38-4ubuntu2.7 [2,326 kB]\n",
            "Get:26 http://archive.ubuntu.com/ubuntu jammy-updates/main amd64 libbinutils amd64 2.38-4ubuntu2.7 [662 kB]\n",
            "Get:27 http://archive.ubuntu.com/ubuntu jammy-updates/main amd64 binutils amd64 2.38-4ubuntu2.7 [3,196 B]\n",
            "Get:28 http://archive.ubuntu.com/ubuntu jammy-updates/main amd64 binutils-common amd64 2.38-4ubuntu2.7 [222 kB]\n",
            "Get:29 http://archive.ubuntu.com/ubuntu jammy-updates/main amd64 libldap-2.5-0 amd64 2.5.18+dfsg-0ubuntu0.22.04.3 [183 kB]\n",
            "Get:30 http://archive.ubuntu.com/ubuntu jammy-updates/main amd64 linux-libc-dev amd64 5.15.0-135.146 [1,321 kB]\n",
            "Fetched 12.7 MB in 3s (4,341 kB/s)\n",
            "debconf: unable to initialize frontend: Dialog\n",
            "debconf: (No usable dialog-like program is installed, so the dialog based frontend cannot be used. at /usr/share/perl5/Debconf/FrontEnd/Dialog.pm line 78, <> line 30.)\n",
            "debconf: falling back to frontend: Readline\n",
            "debconf: unable to initialize frontend: Readline\n",
            "debconf: (This frontend requires a controlling tty.)\n",
            "debconf: falling back to frontend: Teletype\n",
            "dpkg-preconfigure: unable to re-open stdin: \n",
            "(Reading database ... 126209 files and directories currently installed.)\n",
            "Preparing to unpack .../base-files_12ubuntu4.7_amd64.deb ...\n",
            "Unpacking base-files (12ubuntu4.7) over (12ubuntu4.6) ...\n",
            "Setting up base-files (12ubuntu4.7) ...\n",
            "Installing new version of config file /etc/issue ...\n",
            "Installing new version of config file /etc/issue.net ...\n",
            "Installing new version of config file /etc/lsb-release ...\n",
            "(Reading database ... 126209 files and directories currently installed.)\n",
            "Preparing to unpack .../libc-bin_2.35-0ubuntu3.9_amd64.deb ...\n",
            "Unpacking libc-bin (2.35-0ubuntu3.9) over (2.35-0ubuntu3.8) ...\n",
            "Setting up libc-bin (2.35-0ubuntu3.9) ...\n",
            "/sbin/ldconfig.real: /usr/local/lib/libhwloc.so.15 is not a symbolic link\n",
            "\n",
            "/sbin/ldconfig.real: /usr/local/lib/libtcm.so.1 is not a symbolic link\n",
            "\n",
            "/sbin/ldconfig.real: /usr/local/lib/libtbbmalloc_proxy.so.2 is not a symbolic link\n",
            "\n",
            "/sbin/ldconfig.real: /usr/local/lib/libtbbbind_2_0.so.3 is not a symbolic link\n",
            "\n",
            "/sbin/ldconfig.real: /usr/local/lib/libtbbmalloc.so.2 is not a symbolic link\n",
            "\n",
            "/sbin/ldconfig.real: /usr/local/lib/libtbb.so.12 is not a symbolic link\n",
            "\n",
            "/sbin/ldconfig.real: /usr/local/lib/libur_adapter_opencl.so.0 is not a symbolic link\n",
            "\n",
            "/sbin/ldconfig.real: /usr/local/lib/libtbbbind.so.3 is not a symbolic link\n",
            "\n",
            "/sbin/ldconfig.real: /usr/local/lib/libtcm_debug.so.1 is not a symbolic link\n",
            "\n",
            "/sbin/ldconfig.real: /usr/local/lib/libur_adapter_level_zero.so.0 is not a symbolic link\n",
            "\n",
            "/sbin/ldconfig.real: /usr/local/lib/libur_loader.so.0 is not a symbolic link\n",
            "\n",
            "/sbin/ldconfig.real: /usr/local/lib/libumf.so.0 is not a symbolic link\n",
            "\n",
            "/sbin/ldconfig.real: /usr/local/lib/libtbbbind_2_5.so.3 is not a symbolic link\n",
            "\n",
            "(Reading database ... 126209 files and directories currently installed.)\n",
            "Preparing to unpack .../libpam0g_1.4.0-11ubuntu2.5_amd64.deb ...\n",
            "Unpacking libpam0g:amd64 (1.4.0-11ubuntu2.5) over (1.4.0-11ubuntu2.4) ...\n",
            "Setting up libpam0g:amd64 (1.4.0-11ubuntu2.5) ...\n",
            "debconf: unable to initialize frontend: Dialog\n",
            "debconf: (No usable dialog-like program is installed, so the dialog based frontend cannot be used. at /usr/share/perl5/Debconf/FrontEnd/Dialog.pm line 78.)\n",
            "debconf: falling back to frontend: Readline\n",
            "(Reading database ... 126209 files and directories currently installed.)\n",
            "Preparing to unpack .../libpam-modules-bin_1.4.0-11ubuntu2.5_amd64.deb ...\n",
            "Unpacking libpam-modules-bin (1.4.0-11ubuntu2.5) over (1.4.0-11ubuntu2.4) ...\n",
            "Setting up libpam-modules-bin (1.4.0-11ubuntu2.5) ...\n",
            "(Reading database ... 126209 files and directories currently installed.)\n",
            "Preparing to unpack .../libpam-modules_1.4.0-11ubuntu2.5_amd64.deb ...\n",
            "debconf: unable to initialize frontend: Dialog\n",
            "debconf: (No usable dialog-like program is installed, so the dialog based frontend cannot be used. at /usr/share/perl5/Debconf/FrontEnd/Dialog.pm line 78.)\n",
            "debconf: falling back to frontend: Readline\n",
            "Unpacking libpam-modules:amd64 (1.4.0-11ubuntu2.5) over (1.4.0-11ubuntu2.4) ...\n",
            "Setting up libpam-modules:amd64 (1.4.0-11ubuntu2.5) ...\n",
            "(Reading database ... 126209 files and directories currently installed.)\n",
            "Preparing to unpack .../logsave_1.46.5-2ubuntu1.2_amd64.deb ...\n",
            "Unpacking logsave (1.46.5-2ubuntu1.2) over (1.46.5-2ubuntu1.1) ...\n",
            "Preparing to unpack .../libext2fs2_1.46.5-2ubuntu1.2_amd64.deb ...\n",
            "Unpacking libext2fs2:amd64 (1.46.5-2ubuntu1.2) over (1.46.5-2ubuntu1.1) ...\n",
            "Setting up libext2fs2:amd64 (1.46.5-2ubuntu1.2) ...\n",
            "(Reading database ... 126209 files and directories currently installed.)\n",
            "Preparing to unpack .../e2fsprogs_1.46.5-2ubuntu1.2_amd64.deb ...\n",
            "Unpacking e2fsprogs (1.46.5-2ubuntu1.2) over (1.46.5-2ubuntu1.1) ...\n",
            "Preparing to unpack .../libcap2_1%3a2.44-1ubuntu0.22.04.2_amd64.deb ...\n",
            "Unpacking libcap2:amd64 (1:2.44-1ubuntu0.22.04.2) over (1:2.44-1ubuntu0.22.04.1) ...\n",
            "Setting up libcap2:amd64 (1:2.44-1ubuntu0.22.04.2) ...\n",
            "(Reading database ... 126209 files and directories currently installed.)\n",
            "Preparing to unpack .../libpam-runtime_1.4.0-11ubuntu2.5_all.deb ...\n",
            "Unpacking libpam-runtime (1.4.0-11ubuntu2.5) over (1.4.0-11ubuntu2.4) ...\n",
            "Setting up libpam-runtime (1.4.0-11ubuntu2.5) ...\n",
            "debconf: unable to initialize frontend: Dialog\n",
            "debconf: (No usable dialog-like program is installed, so the dialog based frontend cannot be used. at /usr/share/perl5/Debconf/FrontEnd/Dialog.pm line 78.)\n",
            "debconf: falling back to frontend: Readline\n",
            "(Reading database ... 126209 files and directories currently installed.)\n",
            "Preparing to unpack .../libtasn1-6_4.18.0-4ubuntu0.1_amd64.deb ...\n",
            "Unpacking libtasn1-6:amd64 (4.18.0-4ubuntu0.1) over (4.18.0-4build1) ...\n",
            "Setting up libtasn1-6:amd64 (4.18.0-4ubuntu0.1) ...\n",
            "(Reading database ... 126209 files and directories currently installed.)\n",
            "Preparing to unpack .../libgnutls30_3.7.3-4ubuntu1.6_amd64.deb ...\n",
            "Unpacking libgnutls30:amd64 (3.7.3-4ubuntu1.6) over (3.7.3-4ubuntu1.5) ...\n",
            "Setting up libgnutls30:amd64 (3.7.3-4ubuntu1.6) ...\n",
            "(Reading database ... 126209 files and directories currently installed.)\n",
            "Preparing to unpack .../libseccomp2_2.5.3-2ubuntu3~22.04.1_amd64.deb ...\n",
            "Unpacking libseccomp2:amd64 (2.5.3-2ubuntu3~22.04.1) over (2.5.3-2ubuntu2) ...\n",
            "Setting up libseccomp2:amd64 (2.5.3-2ubuntu3~22.04.1) ...\n",
            "(Reading database ... 126209 files and directories currently installed.)\n",
            "Preparing to unpack .../00-libss2_1.46.5-2ubuntu1.2_amd64.deb ...\n",
            "Unpacking libss2:amd64 (1.46.5-2ubuntu1.2) over (1.46.5-2ubuntu1.1) ...\n",
            "Preparing to unpack .../01-libdw1_0.186-1ubuntu0.1_amd64.deb ...\n",
            "Unpacking libdw1:amd64 (0.186-1ubuntu0.1) over (0.186-1build1) ...\n",
            "Preparing to unpack .../02-libelf1_0.186-1ubuntu0.1_amd64.deb ...\n",
            "Unpacking libelf1:amd64 (0.186-1ubuntu0.1) over (0.186-1build1) ...\n",
            "Preparing to unpack .../03-openssl_3.0.2-0ubuntu1.19_amd64.deb ...\n",
            "Unpacking openssl (3.0.2-0ubuntu1.19) over (3.0.2-0ubuntu1.16) ...\n",
            "Preparing to unpack .../04-libctf0_2.38-4ubuntu2.7_amd64.deb ...\n",
            "Unpacking libctf0:amd64 (2.38-4ubuntu2.7) over (2.38-4ubuntu2.6) ...\n",
            "Preparing to unpack .../05-libctf-nobfd0_2.38-4ubuntu2.7_amd64.deb ...\n",
            "Unpacking libctf-nobfd0:amd64 (2.38-4ubuntu2.7) over (2.38-4ubuntu2.6) ...\n",
            "Preparing to unpack .../06-binutils-x86-64-linux-gnu_2.38-4ubuntu2.7_amd64.deb ...\n",
            "Unpacking binutils-x86-64-linux-gnu (2.38-4ubuntu2.7) over (2.38-4ubuntu2.6) ...\n",
            "Preparing to unpack .../07-libbinutils_2.38-4ubuntu2.7_amd64.deb ...\n",
            "Unpacking libbinutils:amd64 (2.38-4ubuntu2.7) over (2.38-4ubuntu2.6) ...\n",
            "Preparing to unpack .../08-binutils_2.38-4ubuntu2.7_amd64.deb ...\n",
            "Unpacking binutils (2.38-4ubuntu2.7) over (2.38-4ubuntu2.6) ...\n",
            "Preparing to unpack .../09-binutils-common_2.38-4ubuntu2.7_amd64.deb ...\n",
            "Unpacking binutils-common:amd64 (2.38-4ubuntu2.7) over (2.38-4ubuntu2.6) ...\n",
            "Preparing to unpack .../10-cuda-toolkit-12-config-common_12.8.90-1_all.deb ...\n",
            "Unpacking cuda-toolkit-12-config-common (12.8.90-1) over (12.5.82-1) ...\n",
            "Preparing to unpack .../11-cuda-toolkit-config-common_12.8.90-1_all.deb ...\n",
            "Unpacking cuda-toolkit-config-common (12.8.90-1) over (12.5.82-1) ...\n",
            "Preparing to unpack .../12-libldap-2.5-0_2.5.18+dfsg-0ubuntu0.22.04.3_amd64.deb ...\n",
            "Unpacking libldap-2.5-0:amd64 (2.5.18+dfsg-0ubuntu0.22.04.3) over (2.5.17+dfsg-0ubuntu0.22.04.1) ...\n",
            "Preparing to unpack .../13-linux-libc-dev_5.15.0-135.146_amd64.deb ...\n",
            "Unpacking linux-libc-dev:amd64 (5.15.0-135.146) over (5.15.0-113.123) ...\n",
            "Preparing to unpack .../14-r-cran-curl_6.2.2-1.ca2204.1_amd64.deb ...\n",
            "Unpacking r-cran-curl (6.2.2-1.ca2204.1) over (6.2.1-1.ca2204.1) ...\n",
            "Preparing to unpack .../15-r-cran-gert_2.1.5-1.ca2204.1_amd64.deb ...\n",
            "Unpacking r-cran-gert (2.1.5-1.ca2204.1) over (2.1.4-1.ca2204.1) ...\n",
            "Preparing to unpack .../16-r-cran-pkgbuild_1.4.7-1.ca2204.1_all.deb ...\n",
            "Unpacking r-cran-pkgbuild (1.4.7-1.ca2204.1) over (1.4.6-1.ca2204.1) ...\n",
            "Setting up cuda-toolkit-config-common (12.8.90-1) ...\n",
            "Setting up r-cran-curl (6.2.2-1.ca2204.1) ...\n",
            "Setting up binutils-common:amd64 (2.38-4ubuntu2.7) ...\n",
            "Setting up linux-libc-dev:amd64 (5.15.0-135.146) ...\n",
            "Setting up libctf-nobfd0:amd64 (2.38-4ubuntu2.7) ...\n",
            "Setting up r-cran-gert (2.1.5-1.ca2204.1) ...\n",
            "Setting up libldap-2.5-0:amd64 (2.5.18+dfsg-0ubuntu0.22.04.3) ...\n",
            "Setting up libss2:amd64 (1.46.5-2ubuntu1.2) ...\n",
            "Setting up logsave (1.46.5-2ubuntu1.2) ...\n",
            "Setting up r-cran-pkgbuild (1.4.7-1.ca2204.1) ...\n",
            "Setting up libbinutils:amd64 (2.38-4ubuntu2.7) ...\n",
            "Setting up openssl (3.0.2-0ubuntu1.19) ...\n",
            "Setting up libelf1:amd64 (0.186-1ubuntu0.1) ...\n",
            "Setting up cuda-toolkit-12-config-common (12.8.90-1) ...\n",
            "Setting up libctf0:amd64 (2.38-4ubuntu2.7) ...\n",
            "Setting up libdw1:amd64 (0.186-1ubuntu0.1) ...\n",
            "Setting up e2fsprogs (1.46.5-2ubuntu1.2) ...\n",
            "Setting up binutils-x86-64-linux-gnu (2.38-4ubuntu2.7) ...\n",
            "Setting up binutils (2.38-4ubuntu2.7) ...\n",
            "Processing triggers for libc-bin (2.35-0ubuntu3.9) ...\n",
            "/sbin/ldconfig.real: /usr/local/lib/libhwloc.so.15 is not a symbolic link\n",
            "\n",
            "/sbin/ldconfig.real: /usr/local/lib/libtcm.so.1 is not a symbolic link\n",
            "\n",
            "/sbin/ldconfig.real: /usr/local/lib/libtbbmalloc_proxy.so.2 is not a symbolic link\n",
            "\n",
            "/sbin/ldconfig.real: /usr/local/lib/libtbbbind_2_0.so.3 is not a symbolic link\n",
            "\n",
            "/sbin/ldconfig.real: /usr/local/lib/libtbbmalloc.so.2 is not a symbolic link\n",
            "\n",
            "/sbin/ldconfig.real: /usr/local/lib/libtbb.so.12 is not a symbolic link\n",
            "\n",
            "/sbin/ldconfig.real: /usr/local/lib/libur_adapter_opencl.so.0 is not a symbolic link\n",
            "\n",
            "/sbin/ldconfig.real: /usr/local/lib/libtbbbind.so.3 is not a symbolic link\n",
            "\n",
            "/sbin/ldconfig.real: /usr/local/lib/libtcm_debug.so.1 is not a symbolic link\n",
            "\n",
            "/sbin/ldconfig.real: /usr/local/lib/libur_adapter_level_zero.so.0 is not a symbolic link\n",
            "\n",
            "/sbin/ldconfig.real: /usr/local/lib/libur_loader.so.0 is not a symbolic link\n",
            "\n",
            "/sbin/ldconfig.real: /usr/local/lib/libumf.so.0 is not a symbolic link\n",
            "\n",
            "/sbin/ldconfig.real: /usr/local/lib/libtbbbind_2_5.so.3 is not a symbolic link\n",
            "\n",
            "Processing triggers for man-db (2.10.2-1) ...\n",
            "Reading package lists... Done\n",
            "Building dependency tree... Done\n",
            "Reading state information... Done\n",
            "build-essential is already the newest version (12.9ubuntu3).\n",
            "python3-dev is already the newest version (3.10.6-1~22.04.1).\n",
            "0 upgraded, 0 newly installed, 0 to remove and 5 not upgraded.\n"
          ]
        }
      ]
    },
    {
      "cell_type": "code",
      "source": [
        "!pip install Cython wheel"
      ],
      "metadata": {
        "colab": {
          "base_uri": "https://localhost:8080/"
        },
        "id": "Cq3e2DcCLZ8u",
        "outputId": "0249aa6f-7e58-414b-be1b-ad4bfedfaf09"
      },
      "execution_count": 36,
      "outputs": [
        {
          "output_type": "stream",
          "name": "stdout",
          "text": [
            "Requirement already satisfied: Cython in /usr/local/lib/python3.11/dist-packages (3.0.12)\n",
            "Requirement already satisfied: wheel in /usr/local/lib/python3.11/dist-packages (0.45.1)\n"
          ]
        }
      ]
    },
    {
      "cell_type": "code",
      "source": [
        "!pip install --force-reinstall --no-binary :all: \"numpy @ https://github.com/numpy/numpy/archive/v1.21.6.zip\" pymc3==3.11.5"
      ],
      "metadata": {
        "colab": {
          "base_uri": "https://localhost:8080/"
        },
        "id": "UbmFehI-LfQQ",
        "outputId": "d52adfa3-e377-4db8-a985-8307f2afab34"
      },
      "execution_count": 37,
      "outputs": [
        {
          "output_type": "stream",
          "name": "stdout",
          "text": [
            "Collecting numpy@ https://github.com/numpy/numpy/archive/v1.21.6.zip\n",
            "  Using cached https://github.com/numpy/numpy/archive/v1.21.6.zip\n",
            "  \u001b[1;31merror\u001b[0m: \u001b[1msubprocess-exited-with-error\u001b[0m\n",
            "  \n",
            "  \u001b[31m×\u001b[0m \u001b[32mpip subprocess to install build dependencies\u001b[0m did not run successfully.\n",
            "  \u001b[31m│\u001b[0m exit code: \u001b[1;36m1\u001b[0m\n",
            "  \u001b[31m╰─>\u001b[0m See above for output.\n",
            "  \n",
            "  \u001b[1;35mnote\u001b[0m: This error originates from a subprocess, and is likely not a problem with pip.\n",
            "  Installing build dependencies ... \u001b[?25l\u001b[?25herror\n",
            "\u001b[1;31merror\u001b[0m: \u001b[1msubprocess-exited-with-error\u001b[0m\n",
            "\n",
            "\u001b[31m×\u001b[0m \u001b[32mpip subprocess to install build dependencies\u001b[0m did not run successfully.\n",
            "\u001b[31m│\u001b[0m exit code: \u001b[1;36m1\u001b[0m\n",
            "\u001b[31m╰─>\u001b[0m See above for output.\n",
            "\n",
            "\u001b[1;35mnote\u001b[0m: This error originates from a subprocess, and is likely not a problem with pip.\n"
          ]
        }
      ]
    },
    {
      "cell_type": "code",
      "source": [
        "!apt-get install -y python3-venv\n"
      ],
      "metadata": {
        "colab": {
          "base_uri": "https://localhost:8080/"
        },
        "id": "t_NSwD9YLvpG",
        "outputId": "ec839603-8365-41b4-a57a-c131cb52ab86"
      },
      "execution_count": 38,
      "outputs": [
        {
          "output_type": "stream",
          "name": "stdout",
          "text": [
            "Reading package lists... Done\n",
            "Building dependency tree... Done\n",
            "Reading state information... Done\n",
            "The following additional packages will be installed:\n",
            "  python3-pip-whl python3-setuptools-whl python3.10-venv\n",
            "The following NEW packages will be installed:\n",
            "  python3-pip-whl python3-setuptools-whl python3-venv python3.10-venv\n",
            "0 upgraded, 4 newly installed, 0 to remove and 5 not upgraded.\n",
            "Need to get 2,475 kB of archives.\n",
            "After this operation, 2,891 kB of additional disk space will be used.\n",
            "Get:1 http://archive.ubuntu.com/ubuntu jammy-updates/universe amd64 python3-pip-whl all 22.0.2+dfsg-1ubuntu0.5 [1,680 kB]\n",
            "Get:2 http://archive.ubuntu.com/ubuntu jammy-updates/universe amd64 python3-setuptools-whl all 59.6.0-1.2ubuntu0.22.04.2 [788 kB]\n",
            "Get:3 http://archive.ubuntu.com/ubuntu jammy-updates/universe amd64 python3.10-venv amd64 3.10.12-1~22.04.9 [5,722 B]\n",
            "Get:4 http://archive.ubuntu.com/ubuntu jammy-updates/universe amd64 python3-venv amd64 3.10.6-1~22.04.1 [1,042 B]\n",
            "Fetched 2,475 kB in 2s (1,061 kB/s)\n",
            "Selecting previously unselected package python3-pip-whl.\n",
            "(Reading database ... 126208 files and directories currently installed.)\n",
            "Preparing to unpack .../python3-pip-whl_22.0.2+dfsg-1ubuntu0.5_all.deb ...\n",
            "Unpacking python3-pip-whl (22.0.2+dfsg-1ubuntu0.5) ...\n",
            "Selecting previously unselected package python3-setuptools-whl.\n",
            "Preparing to unpack .../python3-setuptools-whl_59.6.0-1.2ubuntu0.22.04.2_all.deb ...\n",
            "Unpacking python3-setuptools-whl (59.6.0-1.2ubuntu0.22.04.2) ...\n",
            "Selecting previously unselected package python3.10-venv.\n",
            "Preparing to unpack .../python3.10-venv_3.10.12-1~22.04.9_amd64.deb ...\n",
            "Unpacking python3.10-venv (3.10.12-1~22.04.9) ...\n",
            "Selecting previously unselected package python3-venv.\n",
            "Preparing to unpack .../python3-venv_3.10.6-1~22.04.1_amd64.deb ...\n",
            "Unpacking python3-venv (3.10.6-1~22.04.1) ...\n",
            "Setting up python3-setuptools-whl (59.6.0-1.2ubuntu0.22.04.2) ...\n",
            "Setting up python3-pip-whl (22.0.2+dfsg-1ubuntu0.5) ...\n",
            "Setting up python3.10-venv (3.10.12-1~22.04.9) ...\n",
            "Setting up python3-venv (3.10.6-1~22.04.1) ...\n"
          ]
        }
      ]
    },
    {
      "cell_type": "code",
      "source": [
        "!pip install lifelines"
      ],
      "metadata": {
        "colab": {
          "base_uri": "https://localhost:8080/"
        },
        "id": "BvXUVfZvL0FF",
        "outputId": "c702ccbc-7989-4bdc-950f-ecdaa9d41653"
      },
      "execution_count": 42,
      "outputs": [
        {
          "output_type": "stream",
          "name": "stdout",
          "text": [
            "Collecting lifelines\n",
            "  Downloading lifelines-0.30.0-py3-none-any.whl.metadata (3.2 kB)\n",
            "Requirement already satisfied: numpy>=1.14.0 in /usr/local/lib/python3.11/dist-packages (from lifelines) (2.0.2)\n",
            "Requirement already satisfied: scipy>=1.7.0 in /usr/local/lib/python3.11/dist-packages (from lifelines) (1.14.1)\n",
            "Requirement already satisfied: pandas>=2.1 in /usr/local/lib/python3.11/dist-packages (from lifelines) (2.2.2)\n",
            "Requirement already satisfied: matplotlib>=3.0 in /usr/local/lib/python3.11/dist-packages (from lifelines) (3.10.0)\n",
            "Requirement already satisfied: autograd>=1.5 in /usr/local/lib/python3.11/dist-packages (from lifelines) (1.7.0)\n",
            "Collecting autograd-gamma>=0.3 (from lifelines)\n",
            "  Downloading autograd-gamma-0.5.0.tar.gz (4.0 kB)\n",
            "  Preparing metadata (setup.py) ... \u001b[?25l\u001b[?25hdone\n",
            "Collecting formulaic>=0.2.2 (from lifelines)\n",
            "  Downloading formulaic-1.1.1-py3-none-any.whl.metadata (6.9 kB)\n",
            "Collecting interface-meta>=1.2.0 (from formulaic>=0.2.2->lifelines)\n",
            "  Downloading interface_meta-1.3.0-py3-none-any.whl.metadata (6.7 kB)\n",
            "Requirement already satisfied: typing-extensions>=4.2.0 in /usr/local/lib/python3.11/dist-packages (from formulaic>=0.2.2->lifelines) (4.12.2)\n",
            "Requirement already satisfied: wrapt>=1.0 in /usr/local/lib/python3.11/dist-packages (from formulaic>=0.2.2->lifelines) (1.17.2)\n",
            "Requirement already satisfied: contourpy>=1.0.1 in /usr/local/lib/python3.11/dist-packages (from matplotlib>=3.0->lifelines) (1.3.1)\n",
            "Requirement already satisfied: cycler>=0.10 in /usr/local/lib/python3.11/dist-packages (from matplotlib>=3.0->lifelines) (0.12.1)\n",
            "Requirement already satisfied: fonttools>=4.22.0 in /usr/local/lib/python3.11/dist-packages (from matplotlib>=3.0->lifelines) (4.56.0)\n",
            "Requirement already satisfied: kiwisolver>=1.3.1 in /usr/local/lib/python3.11/dist-packages (from matplotlib>=3.0->lifelines) (1.4.8)\n",
            "Requirement already satisfied: packaging>=20.0 in /usr/local/lib/python3.11/dist-packages (from matplotlib>=3.0->lifelines) (24.2)\n",
            "Requirement already satisfied: pillow>=8 in /usr/local/lib/python3.11/dist-packages (from matplotlib>=3.0->lifelines) (11.1.0)\n",
            "Requirement already satisfied: pyparsing>=2.3.1 in /usr/local/lib/python3.11/dist-packages (from matplotlib>=3.0->lifelines) (3.2.1)\n",
            "Requirement already satisfied: python-dateutil>=2.7 in /usr/local/lib/python3.11/dist-packages (from matplotlib>=3.0->lifelines) (2.8.2)\n",
            "Requirement already satisfied: pytz>=2020.1 in /usr/local/lib/python3.11/dist-packages (from pandas>=2.1->lifelines) (2025.1)\n",
            "Requirement already satisfied: tzdata>=2022.7 in /usr/local/lib/python3.11/dist-packages (from pandas>=2.1->lifelines) (2025.1)\n",
            "Requirement already satisfied: six>=1.5 in /usr/local/lib/python3.11/dist-packages (from python-dateutil>=2.7->matplotlib>=3.0->lifelines) (1.17.0)\n",
            "Downloading lifelines-0.30.0-py3-none-any.whl (349 kB)\n",
            "Downloading formulaic-1.1.1-py3-none-any.whl (115 kB)\n",
            "Downloading interface_meta-1.3.0-py3-none-any.whl (14 kB)\n",
            "Building wheels for collected packages: autograd-gamma\n",
            "  Building wheel for autograd-gamma (setup.py) ... \u001b[?25l\u001b[?25hdone\n",
            "  Created wheel for autograd-gamma: filename=autograd_gamma-0.5.0-py3-none-any.whl size=4031 sha256=ece47351265c19e2b34985796e42cbf8f93725b719ac22a8b1031bc932fc2bfa\n",
            "  Stored in directory: /root/.cache/pip/wheels/8b/67/f4/2caaae2146198dcb824f31a303833b07b14a5ec863fb3acd7b\n",
            "Successfully built autograd-gamma\n",
            "Installing collected packages: interface-meta, autograd-gamma, formulaic, lifelines\n",
            "Successfully installed autograd-gamma-0.5.0 formulaic-1.1.1 interface-meta-1.3.0 lifelines-0.30.0\n"
          ]
        }
      ]
    },
    {
      "cell_type": "code",
      "source": [
        "data = pd.read_csv('/content/Diabetes_classification.csv', header=0, skiprows=1)"
      ],
      "metadata": {
        "id": "Mg4xmgOrM3_e"
      },
      "execution_count": 52,
      "outputs": []
    },
    {
      "cell_type": "code",
      "source": [
        "data.columns = data.columns.str.lower("
      ],
      "metadata": {
        "id": "l4O3avxnNPFe"
      },
      "execution_count": 54,
      "outputs": []
    },
    {
      "cell_type": "code",
      "source": [
        "data = pd.read_csv('/content/Diabetes_classification.csv', header=0, skiprows=1)\n",
        "data.columns = data.columns.str.lower()\n",
        "data = data.dropna(subset=['BUN', 'cr'])  # Note the changes in the list\n"
      ],
      "metadata": {
        "colab": {
          "base_uri": "https://localhost:8080/",
          "height": 297
        },
        "id": "D5jSodvVNTYa",
        "outputId": "6a48a9e5-a500-47e6-8092-f70ac5dd19e4"
      },
      "execution_count": 56,
      "outputs": [
        {
          "output_type": "error",
          "ename": "KeyError",
          "evalue": "['bun', 'cr']",
          "traceback": [
            "\u001b[0;31m---------------------------------------------------------------------------\u001b[0m",
            "\u001b[0;31mKeyError\u001b[0m                                  Traceback (most recent call last)",
            "\u001b[0;32m<ipython-input-56-6a81261dc555>\u001b[0m in \u001b[0;36m<cell line: 0>\u001b[0;34m()\u001b[0m\n\u001b[1;32m      1\u001b[0m \u001b[0mdata\u001b[0m \u001b[0;34m=\u001b[0m \u001b[0mpd\u001b[0m\u001b[0;34m.\u001b[0m\u001b[0mread_csv\u001b[0m\u001b[0;34m(\u001b[0m\u001b[0;34m'/content/Diabetes_classification.csv'\u001b[0m\u001b[0;34m,\u001b[0m \u001b[0mheader\u001b[0m\u001b[0;34m=\u001b[0m\u001b[0;36m0\u001b[0m\u001b[0;34m,\u001b[0m \u001b[0mskiprows\u001b[0m\u001b[0;34m=\u001b[0m\u001b[0;36m1\u001b[0m\u001b[0;34m)\u001b[0m\u001b[0;34m\u001b[0m\u001b[0;34m\u001b[0m\u001b[0m\n\u001b[1;32m      2\u001b[0m \u001b[0mdata\u001b[0m\u001b[0;34m.\u001b[0m\u001b[0mcolumns\u001b[0m \u001b[0;34m=\u001b[0m \u001b[0mdata\u001b[0m\u001b[0;34m.\u001b[0m\u001b[0mcolumns\u001b[0m\u001b[0;34m.\u001b[0m\u001b[0mstr\u001b[0m\u001b[0;34m.\u001b[0m\u001b[0mlower\u001b[0m\u001b[0;34m(\u001b[0m\u001b[0;34m)\u001b[0m\u001b[0;34m\u001b[0m\u001b[0;34m\u001b[0m\u001b[0m\n\u001b[0;32m----> 3\u001b[0;31m \u001b[0mdata\u001b[0m \u001b[0;34m=\u001b[0m \u001b[0mdata\u001b[0m\u001b[0;34m.\u001b[0m\u001b[0mdropna\u001b[0m\u001b[0;34m(\u001b[0m\u001b[0msubset\u001b[0m\u001b[0;34m=\u001b[0m\u001b[0;34m[\u001b[0m\u001b[0;34m'bun'\u001b[0m\u001b[0;34m,\u001b[0m \u001b[0;34m'cr'\u001b[0m\u001b[0;34m]\u001b[0m\u001b[0;34m)\u001b[0m  \u001b[0;31m# Note the changes in the list\u001b[0m\u001b[0;34m\u001b[0m\u001b[0;34m\u001b[0m\u001b[0m\n\u001b[0m",
            "\u001b[0;32m/usr/local/lib/python3.11/dist-packages/pandas/core/frame.py\u001b[0m in \u001b[0;36mdropna\u001b[0;34m(self, axis, how, thresh, subset, inplace, ignore_index)\u001b[0m\n\u001b[1;32m   6668\u001b[0m             \u001b[0mcheck\u001b[0m \u001b[0;34m=\u001b[0m \u001b[0mindices\u001b[0m \u001b[0;34m==\u001b[0m \u001b[0;34m-\u001b[0m\u001b[0;36m1\u001b[0m\u001b[0;34m\u001b[0m\u001b[0;34m\u001b[0m\u001b[0m\n\u001b[1;32m   6669\u001b[0m             \u001b[0;32mif\u001b[0m \u001b[0mcheck\u001b[0m\u001b[0;34m.\u001b[0m\u001b[0many\u001b[0m\u001b[0;34m(\u001b[0m\u001b[0;34m)\u001b[0m\u001b[0;34m:\u001b[0m\u001b[0;34m\u001b[0m\u001b[0;34m\u001b[0m\u001b[0m\n\u001b[0;32m-> 6670\u001b[0;31m                 \u001b[0;32mraise\u001b[0m \u001b[0mKeyError\u001b[0m\u001b[0;34m(\u001b[0m\u001b[0mnp\u001b[0m\u001b[0;34m.\u001b[0m\u001b[0marray\u001b[0m\u001b[0;34m(\u001b[0m\u001b[0msubset\u001b[0m\u001b[0;34m)\u001b[0m\u001b[0;34m[\u001b[0m\u001b[0mcheck\u001b[0m\u001b[0;34m]\u001b[0m\u001b[0;34m.\u001b[0m\u001b[0mtolist\u001b[0m\u001b[0;34m(\u001b[0m\u001b[0;34m)\u001b[0m\u001b[0;34m)\u001b[0m\u001b[0;34m\u001b[0m\u001b[0;34m\u001b[0m\u001b[0m\n\u001b[0m\u001b[1;32m   6671\u001b[0m             \u001b[0magg_obj\u001b[0m \u001b[0;34m=\u001b[0m \u001b[0mself\u001b[0m\u001b[0;34m.\u001b[0m\u001b[0mtake\u001b[0m\u001b[0;34m(\u001b[0m\u001b[0mindices\u001b[0m\u001b[0;34m,\u001b[0m \u001b[0maxis\u001b[0m\u001b[0;34m=\u001b[0m\u001b[0magg_axis\u001b[0m\u001b[0;34m)\u001b[0m\u001b[0;34m\u001b[0m\u001b[0;34m\u001b[0m\u001b[0m\n\u001b[1;32m   6672\u001b[0m \u001b[0;34m\u001b[0m\u001b[0m\n",
            "\u001b[0;31mKeyError\u001b[0m: ['bun', 'cr']"
          ]
        }
      ]
    },
    {
      "cell_type": "code",
      "source": [
        "import pandas as pd\n",
        "import numpy as np\n",
        "from lifelines import CoxPHFitter, WeibullAFTFitter\n",
        "from sklearn.model_selection import train_test_split\n",
        "from sklearn.preprocessing import StandardScaler\n",
        "\n",
        "# Load data and preprocess\n",
        "data = pd.read_csv('/content/Diabetes_classification.csv').replace('-', np.nan)\n",
        "data['Gender'] = data['Gender'].map({'F': 0, 'M': 1})\n",
        "features = ['Age', 'Gender', 'BMI', 'Chol', 'TG', 'HDL', 'LDL', 'Cr', 'BUN']\n",
        "data = data.dropna(subset=['BUN', 'Cr'])  # Note the changes in the list\n",
        "\n",
        "# Example: Mean imputation\n",
        "data[features] = data[features].fillna(data[features].mean())  # Fill NaNs with mean\n",
        "\n",
        "X = StandardScaler().fit_transform(data[features])\n",
        "y = np.random.randint(365, 365*5, len(data))\n",
        "event = data['Diagnosis'].values\n",
        "print(data[features].isnull().sum()) # Check for NaNs\n",
        "# Split data\n",
        "X_train, X_test, y_train, y_test, event_train, event_test = train_test_split(X, y, event, test_size=0.2, random_state=42)\n",
        "\n",
        "# Create DataFrame for lifelines\n",
        "train_df = pd.DataFrame(X_train, columns=features)\n",
        "train_df['duration'] = y_train\n",
        "train_df['event'] = event_train\n",
        "\n",
        "# Cox PH model\n",
        "cph = CoxPHFitter().fit(train_df, 'duration', 'event')\n",
        "# Get predictions (example: survival probability at time t=100 for the first individual)\n",
        "# cox_predictions = cph.predict_survival_function(pd.DataFrame(X_test, columns=features)).loc[100, 0]\n",
        "\n",
        "# AFT model (Weibull)\n",
        "aft = WeibullAFTFitter().fit(train_df, 'duration', 'event')\n",
        "# Get predictions (example: survival probability at time t=100 for the first individual)\n",
        "# aft_predictions = aft.predict_survival_function(pd.DataFrame(X_test, columns=features)).loc[100, 0]"
      ],
      "metadata": {
        "colab": {
          "base_uri": "https://localhost:8080/"
        },
        "id": "APRlVBAGE-Xb",
        "outputId": "256eacb6-e4d9-4e76-8c41-e99bb6db035a"
      },
      "execution_count": 63,
      "outputs": [
        {
          "output_type": "stream",
          "name": "stdout",
          "text": [
            "Age       0\n",
            "Gender    0\n",
            "BMI       0\n",
            "Chol      0\n",
            "TG        0\n",
            "HDL       0\n",
            "LDL       0\n",
            "Cr        0\n",
            "BUN       0\n",
            "dtype: int64\n"
          ]
        }
      ]
    },
    {
      "cell_type": "code",
      "source": [
        "import pandas as pd\n",
        "import numpy as np\n",
        "from lifelines import CoxPHFitter, WeibullAFTFitter\n",
        "from sklearn.model_selection import train_test_split\n",
        "from sklearn.preprocessing import StandardScaler\n",
        "\n",
        "# Load data and preprocess\n",
        "data = pd.read_csv('/content/Diabetes_classification.csv').replace('-', np.nan)\n",
        "data['Gender'] = data['Gender'].map({'F': 0, 'M': 1})\n",
        "features = ['Age', 'Gender', 'BMI', 'Chol', 'TG', 'HDL', 'LDL', 'Cr', 'BUN']\n",
        "data = data.dropna(subset=['BUN', 'Cr'])  # Note the changes in the list\n",
        "\n",
        "# Example: Mean imputation\n",
        "data[features] = data[features].fillna(data[features].mean())  # Fill NaNs with mean\n",
        "\n",
        "X = StandardScaler().fit_transform(data[features])\n",
        "y = np.random.randint(365, 365*5, len(data))\n",
        "event = data['Diagnosis'].values\n",
        "print(data[features].isnull().sum()) # Check for NaNs\n",
        "# Split data\n",
        "X_train, X_test, y_train, y_test, event_train, event_test = train_test_split(X, y, event, test_size=0.2, random_state=42)\n",
        "\n",
        "# Create DataFrame for lifelines\n",
        "train_df = pd.DataFrame(X_train, columns=features)\n",
        "train_df['duration'] = y_train\n",
        "train_df['event'] = event_train\n",
        "\n",
        "# Cox PH model\n",
        "cph = CoxPHFitter().fit(train_df, 'duration', 'event')\n",
        "# Get predictions (example: survival probability at time t=100 for the first individual)\n",
        "cox_predictions = cph.predict_survival_function(pd.DataFrame(X_test, columns=features))\n",
        "aft_predictions = aft.predict_survival_function(pd.DataFrame(X_test, columns=features))\n",
        "# for example, patient at index 0, and time = 100\n",
        "cox_prob = cox_predictions.iloc[0, cox_predictions.columns.get_loc(100)]\n",
        "aft_prob = aft_predictions.iloc[0, aft_predictions.columns.get_loc(100)]\n",
        "\n",
        "print(\"Cox prediction:\", cox_prob)\n",
        "print(\"AFT prediction:\", aft_prob)"
      ],
      "metadata": {
        "colab": {
          "base_uri": "https://localhost:8080/"
        },
        "id": "HT0zxmQIOzsX",
        "outputId": "fe6d8329-ad46-471d-c078-9a24ef104f08"
      },
      "execution_count": 66,
      "outputs": [
        {
          "output_type": "stream",
          "name": "stdout",
          "text": [
            "Age       0\n",
            "Gender    0\n",
            "BMI       0\n",
            "Chol      0\n",
            "TG        0\n",
            "HDL       0\n",
            "LDL       0\n",
            "Cr        0\n",
            "BUN       0\n",
            "dtype: int64\n",
            "Cox prediction: 0.9997057646370593\n",
            "AFT prediction: 0.9961636500828837\n"
          ]
        }
      ]
    }
  ],
  "metadata": {
    "colab": {
      "provenance": [],
      "authorship_tag": "ABX9TyNMN21z2gqMBQmBn3ETLBHG",
      "include_colab_link": true
    },
    "kernelspec": {
      "display_name": "Python 3",
      "name": "python3"
    },
    "language_info": {
      "name": "python"
    }
  },
  "nbformat": 4,
  "nbformat_minor": 0
}