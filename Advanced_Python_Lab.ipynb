{
      "cell_type": "code",
      "source": [
        "import pandas as pd\n",
        "import numpy as np\n",
        "from lifelines import CoxPHFitter, WeibullAFTFitter\n",
        "from sklearn.model_selection import train_test_split\n",
        "from sklearn.preprocessing import StandardScaler\n",
        "\n",
        "# Load data and preprocess\n",
        "data = pd.read_csv('/content/Diabetes_classification.csv').replace('-', np.nan)\n",
        "data['Gender'] = data['Gender'].map({'F': 0, 'M': 1})\n",
        "features = ['Age', 'Gender', 'BMI', 'Chol', 'TG', 'HDL', 'LDL', 'Cr', 'BUN']\n",
        "data = data.dropna(subset=['BUN', 'Cr'])  # Note the changes in the list\n",
        "\n",
        "# Example: Mean imputation\n",
        "data[features] = data[features].fillna(data[features].mean())  # Fill NaNs with mean\n",
        "\n",
        "X = StandardScaler().fit_transform(data[features])\n",
        "y = np.random.randint(365, 365*5, len(data))\n",
        "event = data['Diagnosis'].values\n",
        "print(data[features].isnull().sum()) # Check for NaNs\n",
        "# Split data\n",
        "X_train, X_test, y_train, y_test, event_train, event_test = train_test_split(X, y, event, test_size=0.2, random_state=42)\n",
        "\n",
        "# Create DataFrame for lifelines\n",
        "train_df = pd.DataFrame(X_train, columns=features)\n",
        "train_df['duration'] = y_train\n",
        "train_df['event'] = event_train\n",
        "\n",
        "# Cox PH model\n",
        "cph = CoxPHFitter().fit(train_df, 'duration', 'event')\n",
        "# Get predictions (example: survival probability at time t=100 for the first individual)\n",
        "cox_predictions = cph.predict_survival_function(pd.DataFrame(X_test, columns=features))\n",
        "aft_predictions = aft.predict_survival_function(pd.DataFrame(X_test, columns=features))\n",
        "# for example, patient at index 0, and time = 100\n",
        "cox_prob = cox_predictions.iloc[0, cox_predictions.columns.get_loc(100)]\n",
        "aft_prob = aft_predictions.iloc[0, aft_predictions.columns.get_loc(100)]\n",
        "\n",
        "print(\"Cox prediction:\", cox_prob)\n",
        "print(\"AFT prediction:\", aft_prob)"
      ],
      "metadata": {
        "colab": {
          "base_uri": "https://localhost:8080/"
        },
        "id": "HT0zxmQIOzsX",
        "outputId": "fe6d8329-ad46-471d-c078-9a24ef104f08"
      },
      "execution_count": 66,
      "outputs": [
        {
          "output_type": "stream",
          "name": "stdout",
          "text": [
            "Age       0\n",
            "Gender    0\n",
            "BMI       0\n",
            "Chol      0\n",
            "TG        0\n",
            "HDL       0\n",
            "LDL       0\n",
            "Cr        0\n",
            "BUN       0\n",
            "dtype: int64\n",
            "Cox prediction: 0.9997057646370593\n",
            "AFT prediction: 0.9961636500828837\n"
          ]
        }
      ]
    }
  ],
  "metadata": {
    "colab": {
      "provenance": [],
      "authorship_tag": "ABX9TyNMN21z2gqMBQmBn3ETLBHG",
      "include_colab_link": true
    },
    "kernelspec": {
      "display_name": "Python 3",
      "name": "python3"
    },
    "language_info": {
      "name": "python"
    }
  },
  "nbformat": 4,
  "nbformat_minor": 0
}
